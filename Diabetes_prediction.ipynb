{
  "nbformat": 4,
  "nbformat_minor": 0,
  "metadata": {
    "colab": {
      "provenance": [],
      "gpuType": "V5E1",
      "authorship_tag": "ABX9TyP7mHYnaNu3csC7sfp34uIR",
      "include_colab_link": true
    },
    "kernelspec": {
      "name": "python3",
      "display_name": "Python 3"
    },
    "language_info": {
      "name": "python"
    },
    "accelerator": "TPU"
  },
  "cells": [
    {
      "cell_type": "markdown",
      "metadata": {
        "id": "view-in-github",
        "colab_type": "text"
      },
      "source": [
        "<a href=\"https://colab.research.google.com/github/Tanvir284/Diabetes_prediction/blob/main/Diabetes_prediction.ipynb\" target=\"_parent\"><img src=\"https://colab.research.google.com/assets/colab-badge.svg\" alt=\"Open In Colab\"/></a>"
      ]
    },
    {
      "cell_type": "markdown",
      "source": [
        "#Group_Poultry_farm\n"
      ],
      "metadata": {
        "id": "G9y8bmKTwwGh"
      }
    },
    {
      "cell_type": "code",
      "source": [
        "import pandas as pd\n",
        "import numpy as np\n",
        "from sklearn.model_selection import train_test_split\n",
        "from sklearn.preprocessing import StandardScaler, OneHotEncoder\n",
        "from sklearn.compose import ColumnTransformer\n",
        "from sklearn.pipeline import Pipeline\n",
        "from sklearn.ensemble import HistGradientBoostingClassifier\n",
        "from sklearn.metrics import classification_report, roc_auc_score\n",
        "from sklearn.inspection import permutation_importance\n",
        "import matplotlib.pyplot as plt\n",
        "import re\n",
        "import joblib # Using joblib for model persistence"
      ],
      "metadata": {
        "id": "6bVXXayBeshK"
      },
      "execution_count": 1,
      "outputs": []
    },
    {
      "cell_type": "code",
      "source": [
        "# --- 1. Load Data ---\n",
        "# Use the correct file path from your uploaded zip\n",
        "file_path = \"/content/diabetic_data.csv\"\n",
        "try:\n",
        "    df = pd.read_csv(file_path)\n",
        "    print(f\"Successfully loaded data from '{file_path}'. Shape: {df.shape}\")\n",
        "except FileNotFoundError:\n",
        "    print(f\"Error: File not found at '{file_path}'.\")\n",
        "    exit() # Exit if the file can't be found\n",
        "except Exception as e:\n",
        "    print(f\"An error occurred loading the file: {e}\")\n",
        "    exit()"
      ],
      "metadata": {
        "colab": {
          "base_uri": "https://localhost:8080/"
        },
        "id": "C1q_kX3Veuph",
        "outputId": "fe401fbe-ee50-4aa0-8e71-354b4567e121"
      },
      "execution_count": 2,
      "outputs": [
        {
          "output_type": "stream",
          "name": "stdout",
          "text": [
            "Successfully loaded data from '/content/diabetic_data.csv'. Shape: (101766, 50)\n"
          ]
        }
      ]
    },
    {
      "cell_type": "code",
      "source": [
        "# --- 2. Data Cleaning and Preprocessing ---\n",
        "\n",
        "# Replace '?' with NaN\n",
        "df.replace('?', np.nan, inplace=True)\n",
        "\n",
        "# Drop columns\n",
        "columns_to_drop = ['weight', 'payer_code', 'medical_specialty', 'encounter_id']\n",
        "df.drop(columns_to_drop, axis=1, inplace=True)\n",
        "\n",
        "# CRITICAL: Remove data leakage from 'Expired' or 'Hospice' patients.\n",
        "expired_hospice_ids = [11, 13, 14, 19, 20, 21]\n",
        "df = df[~df['discharge_disposition_id'].isin(expired_hospice_ids)]\n",
        "\n",
        "# Handle duplicate patients: Keep only the first encounter for each patient.\n",
        "df.sort_values(by=['patient_nbr', 'time_in_hospital'], inplace=True)\n",
        "df.drop_duplicates(subset=['patient_nbr'], keep='first', inplace=True)\n",
        "df.drop('patient_nbr', axis=1, inplace=True)\n",
        "\n",
        "# Clean 'gender' column\n",
        "df = df[df['gender'] != 'Unknown/Invalid']\n",
        "print(f\"Data shape after cleaning: {df.shape}\")\n"
      ],
      "metadata": {
        "colab": {
          "base_uri": "https://localhost:8080/"
        },
        "id": "OTeD2virexHF",
        "outputId": "4c87715d-b151-4944-df05-8d48822e117f"
      },
      "execution_count": 3,
      "outputs": [
        {
          "output_type": "stream",
          "name": "stdout",
          "text": [
            "Data shape after cleaning: (69987, 45)\n"
          ]
        }
      ]
    },
    {
      "cell_type": "code",
      "source": [
        "# --- 3. Feature Engineering ---\n",
        "\n",
        "# Define the target variable\n",
        "df['readmitted_binary'] = (df['readmitted'] == '<30').astype(int)\n",
        "df.drop('readmitted', axis=1, inplace=True)\n",
        "\n",
        "# Process Diagnosis Codes (diag_1, diag_2, diag_3)\n",
        "def group_diag_codes(icd_code):\n",
        "    if pd.isna(icd_code):\n",
        "        return 'Other'\n",
        "    # Check for 'E' (External) or 'V' (Supplementary) codes\n",
        "    if isinstance(icd_code, str) and ('E' in icd_code or 'V' in icd_code):\n",
        "        return 'Other'\n",
        "    try:\n",
        "        # Try to convert to float\n",
        "        code = float(icd_code)\n",
        "        if (code >= 390 and code <= 459) or code == 785:\n",
        "            return 'Circulatory'\n",
        "        elif (code >= 460 and code <= 519) or code == 786:\n",
        "            return 'Respiratory'\n",
        "        elif (code >= 520 and code <= 579) or code == 787:\n",
        "            return 'Digestive'\n",
        "        elif code >= 250 and code < 251: # Be specific for diabetes\n",
        "            return 'Diabetes'\n",
        "        elif code >= 800 and code <= 999:\n",
        "            return 'Injury'\n",
        "        elif code >= 710 and code <= 739:\n",
        "            return 'Musculoskeletal'\n",
        "        elif code >= 580 and code <= 629 or code == 788:\n",
        "            return 'Genitourinary'\n",
        "        else:\n",
        "            return 'Other'\n",
        "    except ValueError: # Handle non-numeric codes that aren't E/V\n",
        "        return 'Other'\n",
        "\n",
        "df['diag_1_group'] = df['diag_1'].apply(group_diag_codes)\n",
        "df['diag_2_group'] = df['diag_2'].apply(group_diag_codes)\n",
        "df['diag_3_group'] = df['diag_3'].apply(group_diag_codes)\n",
        "df.drop(['diag_1', 'diag_2', 'diag_3'], axis=1, inplace=True)\n",
        "\n",
        "# Encode Ordinal features\n",
        "age_map = {'[0-10)': 0, '[10-20)': 1, '[20-30)': 2, '[30-40)': 3, '[40-50)': 4,\n",
        "           '[50-60)': 5, '[60-70)': 6, '[70-80)': 7, '[80-90)': 8, '[90-100)': 9}\n",
        "df['age'] = df['age'].map(age_map)\n",
        "\n",
        "glu_a1c_map = {'None': 0, 'Norm': 1, '>200': 2, '>300': 2}\n",
        "# FillNa with 0 (representing 'None')\n",
        "df['max_glu_serum'] = df['max_glu_serum'].map(glu_a1c_map).fillna(0)\n",
        "df['A1Cresult'] = df['A1Cresult'].map(glu_a1c_map).fillna(0)\n",
        "\n",
        "# Encode medication columns\n",
        "med_map = {'No': 0, 'Down': 1, 'Steady': 1, 'Up': 1}\n",
        "med_cols = ['metformin', 'repaglinide', 'nateglinide', 'chlorpropamide',\n",
        "            'glimepiride', 'glipizide', 'glyburide', 'pioglitazone',\n",
        "            'rosiglitazone', 'acarbose', 'miglitol', 'insulin']\n",
        "for col in med_cols:\n",
        "    if col in df.columns:\n",
        "        df[col] = df[col].map(med_map).fillna(0) # FillNa with 0 ('No')\n",
        "# Drop other less common/complex med cols for simplicity\n",
        "df.drop([c for c in df.columns if '-metformin' in c or c in ['acetohexamide', 'tolbutamide', 'troglitazone', 'tolazamide', 'examide', 'citoglipton']], axis=1, inplace=True, errors='ignore')\n",
        "\n",
        "\n",
        "# Encode simple Binary features\n",
        "df['change'] = df['change'].map({'No': 0, 'Ch': 1})\n",
        "df['diabetesMed'] = df['diabetesMed'].map({'No': 0, 'Yes': 1})\n",
        "df['gender'] = df['gender'].map({'Male': 1, 'Female': 0})\n",
        "\n",
        "print(\"Feature engineering complete.\")"
      ],
      "metadata": {
        "colab": {
          "base_uri": "https://localhost:8080/"
        },
        "id": "I2ze1a-6e1S3",
        "outputId": "b764a044-aa1e-443f-e5c0-43104fc77689"
      },
      "execution_count": 4,
      "outputs": [
        {
          "output_type": "stream",
          "name": "stdout",
          "text": [
            "Feature engineering complete.\n"
          ]
        }
      ]
    },
    {
      "cell_type": "code",
      "source": [
        "# --- 4. Model Building (Advanced) ---\n",
        "\n",
        "# Define Features (X) and Target (y)\n",
        "y = df['readmitted_binary']\n",
        "X = df.drop('readmitted_binary', axis=1)\n",
        "\n",
        "# Handle final NaNs\n",
        "# Fill NA in numerical columns with the median\n",
        "for col in X.select_dtypes(include=['int64', 'float64']).columns:\n",
        "    if X[col].isnull().sum() > 0:\n",
        "        print(f\"Filling {X[col].isnull().sum()} NaNs in numerical column '{col}' with median.\")\n",
        "        median_val = X[col].median()\n",
        "        X[col] = X[col].fillna(median_val)\n",
        "\n",
        "# Fill NA in categorical columns with 'Missing'\n",
        "for col in X.select_dtypes(include=['object']).columns:\n",
        "     if X[col].isnull().sum() > 0:\n",
        "        print(f\"Filling {X[col].isnull().sum()} NaNs in categorical column '{col}' with 'Missing'.\")\n",
        "        X[col] = X[col].fillna('Missing')\n",
        "\n",
        "numerical_cols = X.select_dtypes(include=['int64', 'float64']).columns.tolist()\n",
        "categorical_cols = X.select_dtypes(include=['object']).columns.tolist()\n",
        "\n",
        "# Sanity check\n",
        "print(f\"\\nFinal check: NaNs in X: {X.isnull().sum().sum()}\")\n",
        "print(f\"NaNs in y: {y.isnull().sum().sum()}\")\n",
        "\n",
        "# Split the data\n",
        "X_train, X_test, y_train, y_test = train_test_split(\n",
        "    X, y, test_size=0.2, random_state=42, stratify=y\n",
        ")\n",
        "\n",
        "print(f\"\\nTraining set readmission rate: {y_train.mean():.2%}\")\n",
        "print(f\"Test set readmission rate: {y_test.mean():.2%}\")\n",
        "\n"
      ],
      "metadata": {
        "colab": {
          "base_uri": "https://localhost:8080/"
        },
        "id": "Nam6JDQge8EN",
        "outputId": "507dfc48-52c1-4cd4-9d38-5b2a52745d7b"
      },
      "execution_count": 5,
      "outputs": [
        {
          "output_type": "stream",
          "name": "stdout",
          "text": [
            "Filling 1882 NaNs in categorical column 'race' with 'Missing'.\n",
            "\n",
            "Final check: NaNs in X: 0\n",
            "NaNs in y: 0\n",
            "\n",
            "Training set readmission rate: 7.86%\n",
            "Test set readmission rate: 7.86%\n"
          ]
        }
      ]
    },
    {
      "cell_type": "code",
      "source": [
        "# --- 5. Create Preprocessing and Modeling Pipelines ---\n",
        "\n",
        "# Create transformers\n",
        "numeric_transformer = Pipeline(steps=[\n",
        "    ('scaler', StandardScaler())\n",
        "])\n",
        "\n",
        "categorical_transformer = Pipeline(steps=[\n",
        "    ('onehot', OneHotEncoder(handle_unknown='ignore', sparse_output=False))\n",
        "])\n",
        "\n",
        "# Combine transformers\n",
        "preprocessor = ColumnTransformer(\n",
        "    transformers=[\n",
        "        ('num', numeric_transformer, numerical_cols),\n",
        "        ('cat', categorical_transformer, categorical_cols)\n",
        "    ],\n",
        "    remainder='passthrough',\n",
        "    verbose_feature_names_out=False # This gives cleaner feature names\n",
        ")\n"
      ],
      "metadata": {
        "id": "PaQ8F88Le_oZ"
      },
      "execution_count": 6,
      "outputs": []
    },
    {
      "cell_type": "code",
      "source": [
        "# --- Model 1: Unbalanced ---\n",
        "# Using HistGradientBoostingClassifier, a fast and modern gradient boosting model.\n",
        "model_unbalanced = Pipeline(steps=[\n",
        "    ('preprocessor', preprocessor),\n",
        "    ('classifier', HistGradientBoostingClassifier(random_state=42))\n",
        "])\n"
      ],
      "metadata": {
        "id": "banDu4O3fCN3"
      },
      "execution_count": 17,
      "outputs": []
    },
    {
      "cell_type": "code",
      "source": [
        "# --- Model 2: Balanced ---\n",
        "# Here we use class_weight='balanced' to handle the imbalance.\n",
        "model_balanced = Pipeline(steps=[\n",
        "    ('preprocessor', preprocessor),\n",
        "    ('classifier', HistGradientBoostingClassifier(random_state=42, class_weight='balanced'))\n",
        "])"
      ],
      "metadata": {
        "id": "SSCgqc0PfD_n"
      },
      "execution_count": 8,
      "outputs": []
    },
    {
      "cell_type": "code",
      "source": [
        "# --- 6. Train and Evaluate ---\n",
        "\n",
        "# --- Unbalanced Model ---\n",
        "print(\"\\n--- Training UNBALANCED Model ---\")\n",
        "model_unbalanced.fit(X_train, y_train)\n",
        "y_pred_unbalanced = model_unbalanced.predict(X_test)\n",
        "y_proba_unbalanced = model_unbalanced.predict_proba(X_test)[:, 1]\n",
        "\n",
        "print(\"\\n--- Evaluation: UNBALANCED Model ---\")\n",
        "print(\"Target names: 0 = 'Not Readmitted', 1 = 'Readmitted (<30)'\")\n",
        "print(classification_report(y_test, y_pred_unbalanced))\n",
        "auc_unbalanced = roc_auc_score(y_test, y_proba_unbalanced)\n",
        "print(f\"AUC-ROC Score (Unbalanced): {auc_unbalanced:.4f}\")\n"
      ],
      "metadata": {
        "colab": {
          "base_uri": "https://localhost:8080/"
        },
        "id": "FH5hlvOEfGUX",
        "outputId": "fe187758-e38d-4400-a008-3dac2f12ce18"
      },
      "execution_count": 9,
      "outputs": [
        {
          "output_type": "stream",
          "name": "stdout",
          "text": [
            "\n",
            "--- Training UNBALANCED Model ---\n",
            "\n",
            "--- Evaluation: UNBALANCED Model ---\n",
            "Target names: 0 = 'Not Readmitted', 1 = 'Readmitted (<30)'\n",
            "              precision    recall  f1-score   support\n",
            "\n",
            "           0       0.92      1.00      0.96     12898\n",
            "           1       0.00      0.00      0.00      1100\n",
            "\n",
            "    accuracy                           0.92     13998\n",
            "   macro avg       0.46      0.50      0.48     13998\n",
            "weighted avg       0.85      0.92      0.88     13998\n",
            "\n",
            "AUC-ROC Score (Unbalanced): 0.6691\n"
          ]
        }
      ]
    },
    {
      "cell_type": "code",
      "source": [
        "# --- Balanced Model ---\n",
        "print(\"\\n--- Training BALANCED Model (with class_weight='balanced') ---\")\n",
        "model_balanced.fit(X_train, y_train)\n",
        "y_pred_balanced = model_balanced.predict(X_test)\n",
        "y_proba_balanced = model_balanced.predict_proba(X_test)[:, 1]\n",
        "\n",
        "print(\"\\n--- Evaluation: BALANCED Model (with class_weight='balanced') ---\")\n",
        "print(\"Target names: 0 = 'Not Readmitted', 1 = 'Readmitted (<30)'\")\n",
        "print(classification_report(y_test, y_pred_balanced))\n",
        "auc_balanced = roc_auc_score(y_test, y_proba_balanced)\n",
        "print(f\"AUC-ROC Score (Balanced): {auc_balanced:.4f}\")\n",
        "\n",
        "# Save the final, balanced model\n",
        "model_filename = 'balanced_readmission_model.pkl'\n",
        "joblib.dump(model_balanced, model_filename)\n",
        "print(f\"\\nSaved balanced model to '{model_filename}'\")\n"
      ],
      "metadata": {
        "colab": {
          "base_uri": "https://localhost:8080/"
        },
        "id": "EEPS1daafL43",
        "outputId": "fde145d6-514c-456c-f1c0-da18e7c3bd06"
      },
      "execution_count": 10,
      "outputs": [
        {
          "output_type": "stream",
          "name": "stdout",
          "text": [
            "\n",
            "--- Training BALANCED Model (with class_weight='balanced') ---\n",
            "\n",
            "--- Evaluation: BALANCED Model (with class_weight='balanced') ---\n",
            "Target names: 0 = 'Not Readmitted', 1 = 'Readmitted (<30)'\n",
            "              precision    recall  f1-score   support\n",
            "\n",
            "           0       0.95      0.70      0.80     12898\n",
            "           1       0.14      0.57      0.22      1100\n",
            "\n",
            "    accuracy                           0.69     13998\n",
            "   macro avg       0.54      0.63      0.51     13998\n",
            "weighted avg       0.89      0.69      0.76     13998\n",
            "\n",
            "AUC-ROC Score (Balanced): 0.6729\n",
            "\n",
            "Saved balanced model to 'balanced_readmission_model.pkl'\n"
          ]
        }
      ]
    },
    {
      "cell_type": "code",
      "source": [
        "# --- 7. Feature Importance ---\n",
        "print(\"\\n--- Feature Importance (from BALANCED Model) ---\")\n",
        "\n",
        "# Get feature names from the preprocessor\n",
        "try:\n",
        "    # Get the fitted preprocessor step from the pipeline\n",
        "    fitted_preprocessor = model_balanced.named_steps['preprocessor']\n",
        "\n",
        "    # Get the feature names out\n",
        "    feature_names = fitted_preprocessor.get_feature_names_out()\n",
        "\n",
        "    # Get permutation importances (more reliable than standard impurity-based importance)\n",
        "    print(\"Calculating permutation importance (this may take a moment)...\")\n",
        "    # We calculate importance on the test set\n",
        "    perm_importance = permutation_importance(\n",
        "        model_balanced, X_test, y_test, n_repeats=10, random_state=42, n_jobs=-1\n",
        "    )\n",
        "\n",
        "    sorted_idx = perm_importance.importances_mean.argsort()\n",
        "\n",
        "    # Get top 20 features\n",
        "    top_n = 20\n",
        "    top_indices = sorted_idx[-top_n:]\n",
        "\n",
        "    # Clean feature names for display\n",
        "    def clean_feature_name(fn):\n",
        "        fn = re.sub(r'^(num)__', '', fn)\n",
        "        fn = re.sub(r'^(cat)__', '', fn)\n",
        "        return fn\n",
        "\n",
        "    clean_feature_names = [clean_feature_name(fn) for fn in feature_names]\n",
        "\n",
        "    top_features = np.array(clean_feature_names)[top_indices]\n",
        "    top_importances = perm_importance.importances_mean[top_indices]\n",
        "\n",
        "    print(f\"\\nTop {top_n} features:\")\n",
        "    for fn, imp in zip(reversed(top_features), reversed(top_importances)):\n",
        "        print(f\"{fn}: {imp:.4f}\")\n",
        "\n",
        "    # Create a plot for feature importance\n",
        "    plt.figure(figsize=(10, 8))\n",
        "    plt.barh(top_features, top_importances)\n",
        "    plt.xlabel(\"Permutation Importance (Mean)\")\n",
        "    plt.ylabel(\"Feature\")\n",
        "    plt.title(f\"Top {top_n} Most Important Features (Balanced Model)\")\n",
        "    plt.tight_layout()\n",
        "    plt.savefig(\"feature_importance.png\")\n",
        "    print(\"\\nSaved feature importance plot to 'feature_importance.png'\")\n",
        "\n",
        "except Exception as e:\n",
        "    print(f\"Could not retrieve feature importance: {e}\")"
      ],
      "metadata": {
        "colab": {
          "base_uri": "https://localhost:8080/",
          "height": 1000
        },
        "id": "eC_xHA1depg9",
        "outputId": "9861d972-ca04-42f9-fb72-aa898f46ac42"
      },
      "execution_count": 11,
      "outputs": [
        {
          "output_type": "stream",
          "name": "stdout",
          "text": [
            "\n",
            "--- Feature Importance (from BALANCED Model) ---\n",
            "Calculating permutation importance (this may take a moment)...\n",
            "\n",
            "Top 20 features:\n",
            "admission_source_id: 0.0304\n",
            "number_diagnoses: 0.0199\n",
            "num_lab_procedures: 0.0107\n",
            "number_inpatient: 0.0034\n",
            "discharge_disposition_id: 0.0023\n",
            "race_Hispanic: 0.0016\n",
            "max_glu_serum: 0.0010\n",
            "race_Missing: 0.0005\n",
            "race_Caucasian: 0.0005\n",
            "nateglinide: 0.0002\n",
            "A1Cresult: 0.0002\n",
            "rosiglitazone: 0.0001\n",
            "glyburide: 0.0001\n",
            "metformin: 0.0000\n",
            "glimepiride: 0.0000\n",
            "miglitol: 0.0000\n",
            "insulin: 0.0000\n",
            "race_Asian: 0.0000\n",
            "race_AfricanAmerican: 0.0000\n",
            "diabetesMed: 0.0000\n",
            "\n",
            "Saved feature importance plot to 'feature_importance.png'\n"
          ]
        },
        {
          "output_type": "display_data",
          "data": {
            "text/plain": [
              "<Figure size 1000x800 with 1 Axes>"
            ],
            "image/png": "[encoded data removed]"
          },
          "metadata": {}
        }
      ]
    },
    {
      "cell_type": "code",
      "source": [],
      "metadata": {
        "id": "dV23Z3F9gsLg"
      },
      "execution_count": null,
      "outputs": []
    },
    {
      "cell_type": "markdown",
      "metadata": {
        "id": "a00b111d"
      },
      "source": [
        "# Task\n",
        "Build an advanced deep learning model (ANN or LSTM) using the top 20 features identified in the previous step, including hyperparameter tuning, and evaluate its performance."
      ]
    },
    {
      "cell_type": "markdown",
      "metadata": {
        "id": "905ae72a"
      },
      "source": [
        "## Select top features\n",
        "\n",
        "### Subtask:\n",
        "Create a new dataframe containing only the top 20 features identified in the previous step and the target variable.\n"
      ]
    },
    {
      "cell_type": "markdown",
      "metadata": {
        "id": "8a24c105"
      },
      "source": [
        "**Reasoning**:\n",
        "Extract the top 20 feature names, add the target variable, create the new dataframe with only these columns, and display the head of the new dataframe.\n",
        "\n"
      ]
    },
    {
      "cell_type": "code",
      "metadata": {
        "colab": {
          "base_uri": "https://localhost:8080/",
          "height": 256
        },
        "id": "556f112a",
        "outputId": "8fccff60-96f2-4c7f-e430-4f00fbd907d9"
      },
      "source": [
        "# Extract the list of top 20 feature names\n",
        "top_feature_list = top_features.tolist()\n",
        "\n",
        "# Add the target variable name to this list\n",
        "columns_for_top_df = top_feature_list + ['readmitted_binary']\n",
        "\n",
        "# Create a new DataFrame with only these columns\n",
        "# Need to get the original feature names from the preprocessor before cleaning\n",
        "original_feature_names = fitted_preprocessor.get_feature_names_out()\n",
        "\n",
        "# Map the cleaned top feature names back to the original names\n",
        "cleaned_to_original_map = {clean_feature_name(fn): fn for fn in original_feature_names}\n",
        "\n",
        "# Create a list of original feature names corresponding to the top features\n",
        "original_top_feature_list = [cleaned_to_original_map[cfn] for cfn in top_feature_list]\n",
        "\n",
        "# Add the target variable back\n",
        "columns_for_top_df_original = original_top_feature_list + ['readmitted_binary']\n",
        "\n",
        "\n",
        "# Create a new DataFrame with only these columns\n",
        "# We need to apply the preprocessing steps (scaling and one-hot encoding) to X before selecting columns\n",
        "# Transform the entire X dataframe using the fitted preprocessor\n",
        "X_transformed = model_balanced.named_steps['preprocessor'].transform(X)\n",
        "\n",
        "# Convert the transformed data back to a DataFrame with correct feature names\n",
        "X_transformed_df = pd.DataFrame(X_transformed, columns=original_feature_names, index=X.index)\n",
        "\n",
        "# Select the top feature columns and add the target variable\n",
        "df_top_features = X_transformed_df[original_top_feature_list].copy()\n",
        "df_top_features['readmitted_binary'] = y\n",
        "\n",
        "# Display the first few rows of the new df_top_features DataFrame\n",
        "display(df_top_features.head())"
      ],
      "execution_count": 12,
      "outputs": [
        {
          "output_type": "display_data",
          "data": {
            "text/plain": [
              "       diabetesMed  race_AfricanAmerican  race_Asian   insulin  miglitol  \\\n",
              "4780      0.569341                   0.0         0.0 -1.008412 -0.016907   \n",
              "5827     -1.756417                   0.0         0.0 -1.008412 -0.016907   \n",
              "67608     0.569341                   0.0         0.0 -1.008412 -0.016907   \n",
              "17494     0.569341                   0.0         0.0 -1.008412 -0.016907   \n",
              "2270      0.569341                   1.0         0.0 -1.008412 -0.016907   \n",
              "\n",
              "       glimepiride  metformin  glyburide  rosiglitazone  A1Cresult  ...  \\\n",
              "4780     -0.233890   1.949821   2.881059       -0.26245  -0.237521  ...   \n",
              "5827     -0.233890  -0.512868  -0.347095       -0.26245  -0.237521  ...   \n",
              "67608    -0.233890   1.949821  -0.347095       -0.26245  -0.237521  ...   \n",
              "17494    -0.233890   1.949821   2.881059       -0.26245  -0.237521  ...   \n",
              "2270      4.275507  -0.512868  -0.347095       -0.26245  -0.237521  ...   \n",
              "\n",
              "       race_Caucasian  race_Missing  max_glu_serum  race_Hispanic  \\\n",
              "4780              1.0           0.0       -0.20971            0.0   \n",
              "5827              1.0           0.0       -0.20971            0.0   \n",
              "67608             1.0           0.0       -0.20971            0.0   \n",
              "17494             1.0           0.0       -0.20971            0.0   \n",
              "2270              0.0           0.0       -0.20971            0.0   \n",
              "\n",
              "       discharge_disposition_id  number_inpatient  num_lab_procedures  \\\n",
              "4780                  -0.460136          0.894776           -0.565950   \n",
              "5827                  -0.460136         -0.392617            0.347417   \n",
              "67608                 -0.064301         -0.392617            1.311527   \n",
              "17494                 -0.460136         -0.392617            0.195189   \n",
              "2270                  -0.460136         -0.392617            0.347417   \n",
              "\n",
              "       number_diagnoses  admission_source_id  readmitted_binary  \n",
              "4780          -1.103322             0.327609                  0  \n",
              "5827          -2.101220            -1.118294                  0  \n",
              "67608          0.892474             0.327609                  0  \n",
              "17494          0.892474             0.327609                  0  \n",
              "2270          -2.101220             0.327609                  0  \n",
              "\n",
              "[5 rows x 21 columns]"
            ],
            "text/html": [
              "\n",
              "  <div id=\"df-58012be1-cd7b-4a47-802e-298328e50cbb\" class=\"colab-df-container\">\n",
              "    <div>\n",
              "<style scoped>\n",
              "    .dataframe tbody tr th:only-of-type {\n",
              "        vertical-align: middle;\n",
              "    }\n",
              "\n",
              "    .dataframe tbody tr th {\n",
              "        vertical-align: top;\n",
              "    }\n",
              "\n",
              "    .dataframe thead th {\n",
              "        text-align: right;\n",
              "    }\n",
              "</style>\n",
              "<table border=\"1\" class=\"dataframe\">\n",
              "  <thead>\n",
              "    <tr style=\"text-align: right;\">\n",
              "      <th></th>\n",
              "      <th>diabetesMed</th>\n",
              "      <th>race_AfricanAmerican</th>\n",
              "      <th>race_Asian</th>\n",
              "      <th>insulin</th>\n",
              "      <th>miglitol</th>\n",
              "      <th>glimepiride</th>\n",
              "      <th>metformin</th>\n",
              "      <th>glyburide</th>\n",
              "      <th>rosiglitazone</th>\n",
              "      <th>A1Cresult</th>\n",
              "      <th>...</th>\n",
              "      <th>race_Caucasian</th>\n",
              "      <th>race_Missing</th>\n",
              "      <th>max_glu_serum</th>\n",
              "      <th>race_Hispanic</th>\n",
              "      <th>discharge_disposition_id</th>\n",
              "      <th>number_inpatient</th>\n",
              "      <th>num_lab_procedures</th>\n",
              "      <th>number_diagnoses</th>\n",
              "      <th>admission_source_id</th>\n",
              "      <th>readmitted_binary</th>\n",
              "    </tr>\n",
              "  </thead>\n",
              "  <tbody>\n",
              "    <tr>\n",
              "      <th>4780</th>\n",
              "      <td>0.569341</td>\n",
              "      <td>0.0</td>\n",
              "      <td>0.0</td>\n",
              "      <td>-1.008412</td>\n",
              "      <td>-0.016907</td>\n",
              "      <td>-0.233890</td>\n",
              "      <td>1.949821</td>\n",
              "      <td>2.881059</td>\n",
              "      <td>-0.26245</td>\n",
              "      <td>-0.237521</td>\n",
              "      <td>...</td>\n",
              "      <td>1.0</td>\n",
              "      <td>0.0</td>\n",
              "      <td>-0.20971</td>\n",
              "      <td>0.0</td>\n",
              "      <td>-0.460136</td>\n",
              "      <td>0.894776</td>\n",
              "      <td>-0.565950</td>\n",
              "      <td>-1.103322</td>\n",
              "      <td>0.327609</td>\n",
              "      <td>0</td>\n",
              "    </tr>\n",
              "    <tr>\n",
              "      <th>5827</th>\n",
              "      <td>-1.756417</td>\n",
              "      <td>0.0</td>\n",
              "      <td>0.0</td>\n",
              "      <td>-1.008412</td>\n",
              "      <td>-0.016907</td>\n",
              "      <td>-0.233890</td>\n",
              "      <td>-0.512868</td>\n",
              "      <td>-0.347095</td>\n",
              "      <td>-0.26245</td>\n",
              "      <td>-0.237521</td>\n",
              "      <td>...</td>\n",
              "      <td>1.0</td>\n",
              "      <td>0.0</td>\n",
              "      <td>-0.20971</td>\n",
              "      <td>0.0</td>\n",
              "      <td>-0.460136</td>\n",
              "      <td>-0.392617</td>\n",
              "      <td>0.347417</td>\n",
              "      <td>-2.101220</td>\n",
              "      <td>-1.118294</td>\n",
              "      <td>0</td>\n",
              "    </tr>\n",
              "    <tr>\n",
              "      <th>67608</th>\n",
              "      <td>0.569341</td>\n",
              "      <td>0.0</td>\n",
              "      <td>0.0</td>\n",
              "      <td>-1.008412</td>\n",
              "      <td>-0.016907</td>\n",
              "      <td>-0.233890</td>\n",
              "      <td>1.949821</td>\n",
              "      <td>-0.347095</td>\n",
              "      <td>-0.26245</td>\n",
              "      <td>-0.237521</td>\n",
              "      <td>...</td>\n",
              "      <td>1.0</td>\n",
              "      <td>0.0</td>\n",
              "      <td>-0.20971</td>\n",
              "      <td>0.0</td>\n",
              "      <td>-0.064301</td>\n",
              "      <td>-0.392617</td>\n",
              "      <td>1.311527</td>\n",
              "      <td>0.892474</td>\n",
              "      <td>0.327609</td>\n",
              "      <td>0</td>\n",
              "    </tr>\n",
              "    <tr>\n",
              "      <th>17494</th>\n",
              "      <td>0.569341</td>\n",
              "      <td>0.0</td>\n",
              "      <td>0.0</td>\n",
              "      <td>-1.008412</td>\n",
              "      <td>-0.016907</td>\n",
              "      <td>-0.233890</td>\n",
              "      <td>1.949821</td>\n",
              "      <td>2.881059</td>\n",
              "      <td>-0.26245</td>\n",
              "      <td>-0.237521</td>\n",
              "      <td>...</td>\n",
              "      <td>1.0</td>\n",
              "      <td>0.0</td>\n",
              "      <td>-0.20971</td>\n",
              "      <td>0.0</td>\n",
              "      <td>-0.460136</td>\n",
              "      <td>-0.392617</td>\n",
              "      <td>0.195189</td>\n",
              "      <td>0.892474</td>\n",
              "      <td>0.327609</td>\n",
              "      <td>0</td>\n",
              "    </tr>\n",
              "    <tr>\n",
              "      <th>2270</th>\n",
              "      <td>0.569341</td>\n",
              "      <td>1.0</td>\n",
              "      <td>0.0</td>\n",
              "      <td>-1.008412</td>\n",
              "      <td>-0.016907</td>\n",
              "      <td>4.275507</td>\n",
              "      <td>-0.512868</td>\n",
              "      <td>-0.347095</td>\n",
              "      <td>-0.26245</td>\n",
              "      <td>-0.237521</td>\n",
              "      <td>...</td>\n",
              "      <td>0.0</td>\n",
              "      <td>0.0</td>\n",
              "      <td>-0.20971</td>\n",
              "      <td>0.0</td>\n",
              "      <td>-0.460136</td>\n",
              "      <td>-0.392617</td>\n",
              "      <td>0.347417</td>\n",
              "      <td>-2.101220</td>\n",
              "      <td>0.327609</td>\n",
              "      <td>0</td>\n",
              "    </tr>\n",
              "  </tbody>\n",
              "</table>\n",
              "<p>5 rows × 21 columns</p>\n",
              "</div>\n",
              "    <div class=\"colab-df-buttons\">\n",
              "\n",
              "  <div class=\"colab-df-container\">\n",
              "    <button class=\"colab-df-convert\" onclick=\"convertToInteractive('df-58012be1-cd7b-4a47-802e-298328e50cbb')\"\n",
              "            title=\"Convert this dataframe to an interactive table.\"\n",
              "            style=\"display:none;\">\n",
              "\n",
              "  <svg xmlns=\"http://www.w3.org/2000/svg\" height=\"24px\" viewBox=\"0 -960 960 960\">\n",
              "    <path d=\"M120-120v-720h720v720H120Zm60-500h600v-160H180v160Zm220 220h160v-160H400v160Zm0 220h160v-160H400v160ZM180-400h160v-160H180v160Zm440 0h160v-160H620v160ZM180-180h160v-160H180v160Zm440 0h160v-160H620v160Z\"/>\n",
              "  </svg>\n",
              "    </button>\n",
              "\n",
              "  <style>\n",
              "    .colab-df-container {\n",
              "      display:flex;\n",
              "      gap: 12px;\n",
              "    }\n",
              "\n",
              "    .colab-df-convert {\n",
              "      background-color: #E8F0FE;\n",
              "      border: none;\n",
              "      border-radius: 50%;\n",
              "      cursor: pointer;\n",
              "      display: none;\n",
              "      fill: #1967D2;\n",
              "      height: 32px;\n",
              "      padding: 0 0 0 0;\n",
              "      width: 32px;\n",
              "    }\n",
              "\n",
              "    .colab-df-convert:hover {\n",
              "      background-color: #E2EBFA;\n",
              "      box-shadow: 0px 1px 2px rgba(60, 64, 67, 0.3), 0px 1px 3px 1px rgba(60, 64, 67, 0.15);\n",
              "      fill: #174EA6;\n",
              "    }\n",
              "\n",
              "    .colab-df-buttons div {\n",
              "      margin-bottom: 4px;\n",
              "    }\n",
              "\n",
              "    [theme=dark] .colab-df-convert {\n",
              "      background-color: #3B4455;\n",
              "      fill: #D2E3FC;\n",
              "    }\n",
              "\n",
              "    [theme=dark] .colab-df-convert:hover {\n",
              "      background-color: #434B5C;\n",
              "      box-shadow: 0px 1px 3px 1px rgba(0, 0, 0, 0.15);\n",
              "      filter: drop-shadow(0px 1px 2px rgba(0, 0, 0, 0.3));\n",
              "      fill: #FFFFFF;\n",
              "    }\n",
              "  </style>\n",
              "\n",
              "    <script>\n",
              "      const buttonEl =\n",
              "        document.querySelector('#df-58012be1-cd7b-4a47-802e-298328e50cbb button.colab-df-convert');\n",
              "      buttonEl.style.display =\n",
              "        google.colab.kernel.accessAllowed ? 'block' : 'none';\n",
              "\n",
              "      async function convertToInteractive(key) {\n",
              "        const element = document.querySelector('#df-58012be1-cd7b-4a47-802e-298328e50cbb');\n",
              "        const dataTable =\n",
              "          await google.colab.kernel.invokeFunction('convertToInteractive',\n",
              "                                                    [key], {});\n",
              "        if (!dataTable) return;\n",
              "\n",
              "        const docLinkHtml = 'Like what you see? Visit the ' +\n",
              "          '<a target=\"_blank\" href=https://colab.research.google.com/notebooks/data_table.ipynb>data table notebook</a>'\n",
              "          + ' to learn more about interactive tables.';\n",
              "        element.innerHTML = '';\n",
              "        dataTable['output_type'] = 'display_data';\n",
              "        await google.colab.output.renderOutput(dataTable, element);\n",
              "        const docLink = document.createElement('div');\n",
              "        docLink.innerHTML = docLinkHtml;\n",
              "        element.appendChild(docLink);\n",
              "      }\n",
              "    </script>\n",
              "  </div>\n",
              "\n",
              "\n",
              "    <div id=\"df-602d986b-7a91-4489-92e6-fd580055e699\">\n",
              "      <button class=\"colab-df-quickchart\" onclick=\"quickchart('df-602d986b-7a91-4489-92e6-fd580055e699')\"\n",
              "                title=\"Suggest charts\"\n",
              "                style=\"display:none;\">\n",
              "\n",
              "<svg xmlns=\"http://www.w3.org/2000/svg\" height=\"24px\"viewBox=\"0 0 24 24\"\n",
              "     width=\"24px\">\n",
              "    <g>\n",
              "        <path d=\"M19 3H5c-1.1 0-2 .9-2 2v14c0 1.1.9 2 2 2h14c1.1 0 2-.9 2-2V5c0-1.1-.9-2-2-2zM9 17H7v-7h2v7zm4 0h-2V7h2v10zm4 0h-2v-4h2v4z\"/>\n",
              "    </g>\n",
              "</svg>\n",
              "      </button>\n",
              "\n",
              "<style>\n",
              "  .colab-df-quickchart {\n",
              "      --bg-color: #E8F0FE;\n",
              "      --fill-color: #1967D2;\n",
              "      --hover-bg-color: #E2EBFA;\n",
              "      --hover-fill-color: #174EA6;\n",
              "      --disabled-fill-color: #AAA;\n",
              "      --disabled-bg-color: #DDD;\n",
              "  }\n",
              "\n",
              "  [theme=dark] .colab-df-quickchart {\n",
              "      --bg-color: #3B4455;\n",
              "      --fill-color: #D2E3FC;\n",
              "      --hover-bg-color: #434B5C;\n",
              "      --hover-fill-color: #FFFFFF;\n",
              "      --disabled-bg-color: #3B4455;\n",
              "      --disabled-fill-color: #666;\n",
              "  }\n",
              "\n",
              "  .colab-df-quickchart {\n",
              "    background-color: var(--bg-color);\n",
              "    border: none;\n",
              "    border-radius: 50%;\n",
              "    cursor: pointer;\n",
              "    display: none;\n",
              "    fill: var(--fill-color);\n",
              "    height: 32px;\n",
              "    padding: 0;\n",
              "    width: 32px;\n",
              "  }\n",
              "\n",
              "  .colab-df-quickchart:hover {\n",
              "    background-color: var(--hover-bg-color);\n",
              "    box-shadow: 0 1px 2px rgba(60, 64, 67, 0.3), 0 1px 3px 1px rgba(60, 64, 67, 0.15);\n",
              "    fill: var(--button-hover-fill-color);\n",
              "  }\n",
              "\n",
              "  .colab-df-quickchart-complete:disabled,\n",
              "  .colab-df-quickchart-complete:disabled:hover {\n",
              "    background-color: var(--disabled-bg-color);\n",
              "    fill: var(--disabled-fill-color);\n",
              "    box-shadow: none;\n",
              "  }\n",
              "\n",
              "  .colab-df-spinner {\n",
              "    border: 2px solid var(--fill-color);\n",
              "    border-color: transparent;\n",
              "    border-bottom-color: var(--fill-color);\n",
              "    animation:\n",
              "      spin 1s steps(1) infinite;\n",
              "  }\n",
              "\n",
              "  @keyframes spin {\n",
              "    0% {\n",
              "      border-color: transparent;\n",
              "      border-bottom-color: var(--fill-color);\n",
              "      border-left-color: var(--fill-color);\n",
              "    }\n",
              "    20% {\n",
              "      border-color: transparent;\n",
              "      border-left-color: var(--fill-color);\n",
              "      border-top-color: var(--fill-color);\n",
              "    }\n",
              "    30% {\n",
              "      border-color: transparent;\n",
              "      border-left-color: var(--fill-color);\n",
              "      border-top-color: var(--fill-color);\n",
              "      border-right-color: var(--fill-color);\n",
              "    }\n",
              "    40% {\n",
              "      border-color: transparent;\n",
              "      border-right-color: var(--fill-color);\n",
              "      border-top-color: var(--fill-color);\n",
              "    }\n",
              "    60% {\n",
              "      border-color: transparent;\n",
              "      border-right-color: var(--fill-color);\n",
              "    }\n",
              "    80% {\n",
              "      border-color: transparent;\n",
              "      border-right-color: var(--fill-color);\n",
              "      border-bottom-color: var(--fill-color);\n",
              "    }\n",
              "    90% {\n",
              "      border-color: transparent;\n",
              "      border-bottom-color: var(--fill-color);\n",
              "    }\n",
              "  }\n",
              "</style>\n",
              "\n",
              "      <script>\n",
              "        async function quickchart(key) {\n",
              "          const quickchartButtonEl =\n",
              "            document.querySelector('#' + key + ' button');\n",
              "          quickchartButtonEl.disabled = true;  // To prevent multiple clicks.\n",
              "          quickchartButtonEl.classList.add('colab-df-spinner');\n",
              "          try {\n",
              "            const charts = await google.colab.kernel.invokeFunction(\n",
              "                'suggestCharts', [key], {});\n",
              "          } catch (error) {\n",
              "            console.error('Error during call to suggestCharts:', error);\n",
              "          }\n",
              "          quickchartButtonEl.classList.remove('colab-df-spinner');\n",
              "          quickchartButtonEl.classList.add('colab-df-quickchart-complete');\n",
              "        }\n",
              "        (() => {\n",
              "          let quickchartButtonEl =\n",
              "            document.querySelector('#df-602d986b-7a91-4489-92e6-fd580055e699 button');\n",
              "          quickchartButtonEl.style.display =\n",
              "            google.colab.kernel.accessAllowed ? 'block' : 'none';\n",
              "        })();\n",
              "      </script>\n",
              "    </div>\n",
              "\n",
              "    </div>\n",
              "  </div>\n"
            ],
            "application/vnd.google.colaboratory.intrinsic+json": {
              "type": "dataframe"
            }
          },
          "metadata": {}
        }
      ]
    },
    {
      "cell_type": "markdown",
      "metadata": {
        "id": "fdd33d7f"
      },
      "source": [
        "## Data preprocessing for deep learning\n",
        "\n",
        "### Subtask:\n",
        "Apply necessary preprocessing steps to the selected top 20 features, including scaling and one-hot encoding, suitable for a neural network input. Ensure the preprocessing is applied consistently to training and testing sets.\n"
      ]
    },
    {
      "cell_type": "markdown",
      "metadata": {
        "id": "63d3fac2"
      },
      "source": [
        "**Reasoning**:\n",
        "Separate features and target, split the data into training and testing sets, and convert them to NumPy arrays, as the features are already preprocessed.\n",
        "\n"
      ]
    },
    {
      "cell_type": "code",
      "metadata": {
        "colab": {
          "base_uri": "https://localhost:8080/"
        },
        "id": "3469a5c7",
        "outputId": "accd667f-7a7c-4677-e676-a2e1baf27a04"
      },
      "source": [
        "# 1. Separate features (X_top) and target (y_top)\n",
        "X_top = df_top_features.drop('readmitted_binary', axis=1)\n",
        "y_top = df_top_features['readmitted_binary']\n",
        "\n",
        "# 2. Split data into training and testing sets\n",
        "# Features are already scaled and one-hot encoded, so no further preprocessing needed here.\n",
        "X_train_top, X_test_top, y_train_top, y_test_top = train_test_split(\n",
        "    X_top, y_top, test_size=0.2, random_state=42, stratify=y_top\n",
        ")\n",
        "\n",
        "# 3. & 4. Identify numerical/categorical columns and acknowledge preprocessing\n",
        "# The columns in X_top are already the result of scaling and one-hot encoding\n",
        "# from the previous preprocessing pipeline.\n",
        "# Numerical columns from the original data were scaled.\n",
        "# Categorical columns from the original data were one-hot encoded.\n",
        "# All columns in X_top are now suitable for direct input into a neural network.\n",
        "\n",
        "# 5. Convert to NumPy arrays (required by many deep learning frameworks)\n",
        "X_train_top_np = X_train_top.to_numpy()\n",
        "X_test_top_np = X_test_top.to_numpy()\n",
        "y_train_top_np = y_train_top.to_numpy()\n",
        "y_test_top_np = y_test_top.to_numpy()\n",
        "\n",
        "print(\"Data splitting and conversion to NumPy arrays complete.\")\n",
        "print(f\"X_train_top shape: {X_train_top_np.shape}\")\n",
        "print(f\"X_test_top shape: {X_test_top_np.shape}\")\n",
        "print(f\"y_train_top shape: {y_train_top_np.shape}\")\n",
        "print(f\"y_test_top shape: {y_test_top_np.shape}\")"
      ],
      "execution_count": 13,
      "outputs": [
        {
          "output_type": "stream",
          "name": "stdout",
          "text": [
            "Data splitting and conversion to NumPy arrays complete.\n",
            "X_train_top shape: (55989, 20)\n",
            "X_test_top shape: (13998, 20)\n",
            "y_train_top shape: (55989,)\n",
            "y_test_top shape: (13998,)\n"
          ]
        }
      ]
    },
    {
      "cell_type": "markdown",
      "metadata": {
        "id": "d8b545b3"
      },
      "source": [
        "## Choose and build ann model\n",
        "\n",
        "### Subtask:\n",
        "Define a suitable Artificial Neural Network (ANN) architecture using a library like TensorFlow or Keras. This will involve defining the layers, activation functions, and output layer based on the binary classification task.\n"
      ]
    },
    {
      "cell_type": "markdown",
      "metadata": {
        "id": "abdb3426"
      },
      "source": [
        "**Reasoning**:\n",
        "Define the ANN model architecture using Keras Sequential API as instructed, including Dense layers, activation functions, Dropout, and the output layer with sigmoid activation.\n",
        "\n"
      ]
    },
    {
      "cell_type": "code",
      "metadata": {
        "colab": {
          "base_uri": "https://localhost:8080/",
          "height": 312
        },
        "id": "eb85bccb",
        "outputId": "5e867868-aee4-4bef-be41-463a13de00a3"
      },
      "source": [
        "import tensorflow as tf\n",
        "from tensorflow.keras.models import Sequential\n",
        "from tensorflow.keras.layers import Dense, Dropout\n",
        "\n",
        "# 1. Initialize a Sequential model\n",
        "model_ann = Sequential()\n",
        "\n",
        "# 2. & 3. Add Dense layers\n",
        "# Input layer and first hidden layer\n",
        "model_ann.add(Dense(units=64, activation='relu', input_shape=(X_train_top_np.shape[1],)))\n",
        "# Optional: Add more hidden layers\n",
        "model_ann.add(Dense(units=32, activation='relu'))\n",
        "\n",
        "# 4. Add Dropout for regularization (optional)\n",
        "model_ann.add(Dropout(0.3)) # Dropout rate between 0.2 and 0.5\n",
        "\n",
        "# 5. Add the output layer\n",
        "model_ann.add(Dense(units=1, activation='sigmoid'))\n",
        "\n",
        "# 6. Print the model summary\n",
        "model_ann.summary()"
      ],
      "execution_count": 34,
      "outputs": [
        {
          "output_type": "stream",
          "name": "stderr",
          "text": [
            "/usr/local/lib/python3.12/dist-packages/keras/src/layers/core/dense.py:93: UserWarning: Do not pass an `input_shape`/`input_dim` argument to a layer. When using Sequential models, prefer using an `Input(shape)` object as the first layer in the model instead.\n",
            "  super().__init__(activity_regularizer=activity_regularizer, **kwargs)\n"
          ]
        },
        {
          "output_type": "display_data",
          "data": {
            "text/plain": [
              "\u001b[1mModel: \"sequential_3\"\u001b[0m\n"
            ],
            "text/html": [
              "<pre style=\"white-space:pre;overflow-x:auto;line-height:normal;font-family:Menlo,'DejaVu Sans Mono',consolas,'Courier New',monospace\"><span style=\"font-weight: bold\">Model: \"sequential_3\"</span>\n",
              "</pre>\n"
            ]
          },
          "metadata": {}
        },
        {
          "output_type": "display_data",
          "data": {
            "text/plain": [
              "┏━━━━━━━━━━━━━━━━━━━━━━━━━━━━━━━━━┳━━━━━━━━━━━━━━━━━━━━━━━━┳━━━━━━━━━━━━━━━┓\n",
              "┃\u001b[1m \u001b[0m\u001b[1mLayer (type)                   \u001b[0m\u001b[1m \u001b[0m┃\u001b[1m \u001b[0m\u001b[1mOutput Shape          \u001b[0m\u001b[1m \u001b[0m┃\u001b[1m \u001b[0m\u001b[1m      Param #\u001b[0m\u001b[1m \u001b[0m┃\n",
              "┡━━━━━━━━━━━━━━━━━━━━━━━━━━━━━━━━━╇━━━━━━━━━━━━━━━━━━━━━━━━╇━━━━━━━━━━━━━━━┩\n",
              "│ dense_12 (\u001b[38;5;33mDense\u001b[0m)                │ (\u001b[38;5;45mNone\u001b[0m, \u001b[38;5;34m64\u001b[0m)             │         \u001b[38;5;34m1,344\u001b[0m │\n",
              "├─────────────────────────────────┼────────────────────────┼───────────────┤\n",
              "│ dense_13 (\u001b[38;5;33mDense\u001b[0m)                │ (\u001b[38;5;45mNone\u001b[0m, \u001b[38;5;34m32\u001b[0m)             │         \u001b[38;5;34m2,080\u001b[0m │\n",
              "├─────────────────────────────────┼────────────────────────┼───────────────┤\n",
              "│ dropout (\u001b[38;5;33mDropout\u001b[0m)               │ (\u001b[38;5;45mNone\u001b[0m, \u001b[38;5;34m32\u001b[0m)             │             \u001b[38;5;34m0\u001b[0m │\n",
              "├─────────────────────────────────┼────────────────────────┼───────────────┤\n",
              "│ dense_14 (\u001b[38;5;33mDense\u001b[0m)                │ (\u001b[38;5;45mNone\u001b[0m, \u001b[38;5;34m1\u001b[0m)              │            \u001b[38;5;34m33\u001b[0m │\n",
              "└─────────────────────────────────┴────────────────────────┴───────────────┘\n"
            ],
            "text/html": [
              "<pre style=\"white-space:pre;overflow-x:auto;line-height:normal;font-family:Menlo,'DejaVu Sans Mono',consolas,'Courier New',monospace\">┏━━━━━━━━━━━━━━━━━━━━━━━━━━━━━━━━━┳━━━━━━━━━━━━━━━━━━━━━━━━┳━━━━━━━━━━━━━━━┓\n",
              "┃<span style=\"font-weight: bold\"> Layer (type)                    </span>┃<span style=\"font-weight: bold\"> Output Shape           </span>┃<span style=\"font-weight: bold\">       Param # </span>┃\n",
              "┡━━━━━━━━━━━━━━━━━━━━━━━━━━━━━━━━━╇━━━━━━━━━━━━━━━━━━━━━━━━╇━━━━━━━━━━━━━━━┩\n",
              "│ dense_12 (<span style=\"color: #0087ff; text-decoration-color: #0087ff\">Dense</span>)                │ (<span style=\"color: #00d7ff; text-decoration-color: #00d7ff\">None</span>, <span style=\"color: #00af00; text-decoration-color: #00af00\">64</span>)             │         <span style=\"color: #00af00; text-decoration-color: #00af00\">1,344</span> │\n",
              "├─────────────────────────────────┼────────────────────────┼───────────────┤\n",
              "│ dense_13 (<span style=\"color: #0087ff; text-decoration-color: #0087ff\">Dense</span>)                │ (<span style=\"color: #00d7ff; text-decoration-color: #00d7ff\">None</span>, <span style=\"color: #00af00; text-decoration-color: #00af00\">32</span>)             │         <span style=\"color: #00af00; text-decoration-color: #00af00\">2,080</span> │\n",
              "├─────────────────────────────────┼────────────────────────┼───────────────┤\n",
              "│ dropout (<span style=\"color: #0087ff; text-decoration-color: #0087ff\">Dropout</span>)               │ (<span style=\"color: #00d7ff; text-decoration-color: #00d7ff\">None</span>, <span style=\"color: #00af00; text-decoration-color: #00af00\">32</span>)             │             <span style=\"color: #00af00; text-decoration-color: #00af00\">0</span> │\n",
              "├─────────────────────────────────┼────────────────────────┼───────────────┤\n",
              "│ dense_14 (<span style=\"color: #0087ff; text-decoration-color: #0087ff\">Dense</span>)                │ (<span style=\"color: #00d7ff; text-decoration-color: #00d7ff\">None</span>, <span style=\"color: #00af00; text-decoration-color: #00af00\">1</span>)              │            <span style=\"color: #00af00; text-decoration-color: #00af00\">33</span> │\n",
              "└─────────────────────────────────┴────────────────────────┴───────────────┘\n",
              "</pre>\n"
            ]
          },
          "metadata": {}
        },
        {
          "output_type": "display_data",
          "data": {
            "text/plain": [
              "\u001b[1m Total params: \u001b[0m\u001b[38;5;34m3,457\u001b[0m (13.50 KB)\n"
            ],
            "text/html": [
              "<pre style=\"white-space:pre;overflow-x:auto;line-height:normal;font-family:Menlo,'DejaVu Sans Mono',consolas,'Courier New',monospace\"><span style=\"font-weight: bold\"> Total params: </span><span style=\"color: #00af00; text-decoration-color: #00af00\">3,457</span> (13.50 KB)\n",
              "</pre>\n"
            ]
          },
          "metadata": {}
        },
        {
          "output_type": "display_data",
          "data": {
            "text/plain": [
              "\u001b[1m Trainable params: \u001b[0m\u001b[38;5;34m3,457\u001b[0m (13.50 KB)\n"
            ],
            "text/html": [
              "<pre style=\"white-space:pre;overflow-x:auto;line-height:normal;font-family:Menlo,'DejaVu Sans Mono',consolas,'Courier New',monospace\"><span style=\"font-weight: bold\"> Trainable params: </span><span style=\"color: #00af00; text-decoration-color: #00af00\">3,457</span> (13.50 KB)\n",
              "</pre>\n"
            ]
          },
          "metadata": {}
        },
        {
          "output_type": "display_data",
          "data": {
            "text/plain": [
              "\u001b[1m Non-trainable params: \u001b[0m\u001b[38;5;34m0\u001b[0m (0.00 B)\n"
            ],
            "text/html": [
              "<pre style=\"white-space:pre;overflow-x:auto;line-height:normal;font-family:Menlo,'DejaVu Sans Mono',consolas,'Courier New',monospace\"><span style=\"font-weight: bold\"> Non-trainable params: </span><span style=\"color: #00af00; text-decoration-color: #00af00\">0</span> (0.00 B)\n",
              "</pre>\n"
            ]
          },
          "metadata": {}
        }
      ]
    },
    {
      "cell_type": "markdown",
      "metadata": {
        "id": "6de7bed7"
      },
      "source": [
        "**Reasoning**:\n",
        "The previous command failed because the tensorflow library is not installed. Install tensorflow using pip.\n",
        "\n"
      ]
    },
    {
      "cell_type": "markdown",
      "metadata": {
        "id": "c17ba7ef"
      },
      "source": [
        "**Reasoning**:\n",
        "Now that tensorflow is installed, define the ANN model architecture using Keras Sequential API as instructed, including Dense layers, activation functions, Dropout, and the output layer with sigmoid activation, and print the summary.\n",
        "\n"
      ]
    },
    {
      "cell_type": "code",
      "metadata": {
        "colab": {
          "base_uri": "https://localhost:8080/",
          "height": 257
        },
        "id": "c709ed19",
        "outputId": "311976dd-6b9b-4f20-90f3-d8cae85b8efa"
      },
      "source": [
        "import tensorflow as tf\n",
        "from tensorflow.keras.models import Sequential\n",
        "from tensorflow.keras.layers import Dense, Dropout\n",
        "\n",
        "# 1. Initialize a Sequential model\n",
        "model_ann = Sequential()\n",
        "\n",
        "# 2. & 3. Add Dense layers\n",
        "# Input layer and first hidden layer\n",
        "model_ann.add(Dense(units=64, activation='relu', input_shape=(X_train_top_np.shape[1],)))\n",
        "# Optional: Add more hidden layers\n",
        "model_ann.add(Dense(units=32, activation='relu'))\n",
        "\n",
        "# 4. Add Dropout for regularization (optional)\n",
        "model_ann.add(Dropout(0.3)) # Dropout rate between 0.2 and 0.5\n",
        "\n",
        "# 5. Add the output layer\n",
        "model_ann.add(Dense(units=1, activation='sigmoid'))\n",
        "\n",
        "# 6. Print the model summary\n",
        "model_ann.summary()"
      ],
      "execution_count": 35,
      "outputs": [
        {
          "output_type": "display_data",
          "data": {
            "text/plain": [
              "\u001b[1mModel: \"sequential_4\"\u001b[0m\n"
            ],
            "text/html": [
              "<pre style=\"white-space:pre;overflow-x:auto;line-height:normal;font-family:Menlo,'DejaVu Sans Mono',consolas,'Courier New',monospace\"><span style=\"font-weight: bold\">Model: \"sequential_4\"</span>\n",
              "</pre>\n"
            ]
          },
          "metadata": {}
        },
        {
          "output_type": "display_data",
          "data": {
            "text/plain": [
              "┏━━━━━━━━━━━━━━━━━━━━━━━━━━━━━━━━━┳━━━━━━━━━━━━━━━━━━━━━━━━┳━━━━━━━━━━━━━━━┓\n",
              "┃\u001b[1m \u001b[0m\u001b[1mLayer (type)                   \u001b[0m\u001b[1m \u001b[0m┃\u001b[1m \u001b[0m\u001b[1mOutput Shape          \u001b[0m\u001b[1m \u001b[0m┃\u001b[1m \u001b[0m\u001b[1m      Param #\u001b[0m\u001b[1m \u001b[0m┃\n",
              "┡━━━━━━━━━━━━━━━━━━━━━━━━━━━━━━━━━╇━━━━━━━━━━━━━━━━━━━━━━━━╇━━━━━━━━━━━━━━━┩\n",
              "│ dense_15 (\u001b[38;5;33mDense\u001b[0m)                │ (\u001b[38;5;45mNone\u001b[0m, \u001b[38;5;34m64\u001b[0m)             │         \u001b[38;5;34m1,344\u001b[0m │\n",
              "├─────────────────────────────────┼────────────────────────┼───────────────┤\n",
              "│ dense_16 (\u001b[38;5;33mDense\u001b[0m)                │ (\u001b[38;5;45mNone\u001b[0m, \u001b[38;5;34m32\u001b[0m)             │         \u001b[38;5;34m2,080\u001b[0m │\n",
              "├─────────────────────────────────┼────────────────────────┼───────────────┤\n",
              "│ dropout_1 (\u001b[38;5;33mDropout\u001b[0m)             │ (\u001b[38;5;45mNone\u001b[0m, \u001b[38;5;34m32\u001b[0m)             │             \u001b[38;5;34m0\u001b[0m │\n",
              "├─────────────────────────────────┼────────────────────────┼───────────────┤\n",
              "│ dense_17 (\u001b[38;5;33mDense\u001b[0m)                │ (\u001b[38;5;45mNone\u001b[0m, \u001b[38;5;34m1\u001b[0m)              │            \u001b[38;5;34m33\u001b[0m │\n",
              "└─────────────────────────────────┴────────────────────────┴───────────────┘\n"
            ],
            "text/html": [
              "<pre style=\"white-space:pre;overflow-x:auto;line-height:normal;font-family:Menlo,'DejaVu Sans Mono',consolas,'Courier New',monospace\">┏━━━━━━━━━━━━━━━━━━━━━━━━━━━━━━━━━┳━━━━━━━━━━━━━━━━━━━━━━━━┳━━━━━━━━━━━━━━━┓\n",
              "┃<span style=\"font-weight: bold\"> Layer (type)                    </span>┃<span style=\"font-weight: bold\"> Output Shape           </span>┃<span style=\"font-weight: bold\">       Param # </span>┃\n",
              "┡━━━━━━━━━━━━━━━━━━━━━━━━━━━━━━━━━╇━━━━━━━━━━━━━━━━━━━━━━━━╇━━━━━━━━━━━━━━━┩\n",
              "│ dense_15 (<span style=\"color: #0087ff; text-decoration-color: #0087ff\">Dense</span>)                │ (<span style=\"color: #00d7ff; text-decoration-color: #00d7ff\">None</span>, <span style=\"color: #00af00; text-decoration-color: #00af00\">64</span>)             │         <span style=\"color: #00af00; text-decoration-color: #00af00\">1,344</span> │\n",
              "├─────────────────────────────────┼────────────────────────┼───────────────┤\n",
              "│ dense_16 (<span style=\"color: #0087ff; text-decoration-color: #0087ff\">Dense</span>)                │ (<span style=\"color: #00d7ff; text-decoration-color: #00d7ff\">None</span>, <span style=\"color: #00af00; text-decoration-color: #00af00\">32</span>)             │         <span style=\"color: #00af00; text-decoration-color: #00af00\">2,080</span> │\n",
              "├─────────────────────────────────┼────────────────────────┼───────────────┤\n",
              "│ dropout_1 (<span style=\"color: #0087ff; text-decoration-color: #0087ff\">Dropout</span>)             │ (<span style=\"color: #00d7ff; text-decoration-color: #00d7ff\">None</span>, <span style=\"color: #00af00; text-decoration-color: #00af00\">32</span>)             │             <span style=\"color: #00af00; text-decoration-color: #00af00\">0</span> │\n",
              "├─────────────────────────────────┼────────────────────────┼───────────────┤\n",
              "│ dense_17 (<span style=\"color: #0087ff; text-decoration-color: #0087ff\">Dense</span>)                │ (<span style=\"color: #00d7ff; text-decoration-color: #00d7ff\">None</span>, <span style=\"color: #00af00; text-decoration-color: #00af00\">1</span>)              │            <span style=\"color: #00af00; text-decoration-color: #00af00\">33</span> │\n",
              "└─────────────────────────────────┴────────────────────────┴───────────────┘\n",
              "</pre>\n"
            ]
          },
          "metadata": {}
        },
        {
          "output_type": "display_data",
          "data": {
            "text/plain": [
              "\u001b[1m Total params: \u001b[0m\u001b[38;5;34m3,457\u001b[0m (13.50 KB)\n"
            ],
            "text/html": [
              "<pre style=\"white-space:pre;overflow-x:auto;line-height:normal;font-family:Menlo,'DejaVu Sans Mono',consolas,'Courier New',monospace\"><span style=\"font-weight: bold\"> Total params: </span><span style=\"color: #00af00; text-decoration-color: #00af00\">3,457</span> (13.50 KB)\n",
              "</pre>\n"
            ]
          },
          "metadata": {}
        },
        {
          "output_type": "display_data",
          "data": {
            "text/plain": [
              "\u001b[1m Trainable params: \u001b[0m\u001b[38;5;34m3,457\u001b[0m (13.50 KB)\n"
            ],
            "text/html": [
              "<pre style=\"white-space:pre;overflow-x:auto;line-height:normal;font-family:Menlo,'DejaVu Sans Mono',consolas,'Courier New',monospace\"><span style=\"font-weight: bold\"> Trainable params: </span><span style=\"color: #00af00; text-decoration-color: #00af00\">3,457</span> (13.50 KB)\n",
              "</pre>\n"
            ]
          },
          "metadata": {}
        },
        {
          "output_type": "display_data",
          "data": {
            "text/plain": [
              "\u001b[1m Non-trainable params: \u001b[0m\u001b[38;5;34m0\u001b[0m (0.00 B)\n"
            ],
            "text/html": [
              "<pre style=\"white-space:pre;overflow-x:auto;line-height:normal;font-family:Menlo,'DejaVu Sans Mono',consolas,'Courier New',monospace\"><span style=\"font-weight: bold\"> Non-trainable params: </span><span style=\"color: #00af00; text-decoration-color: #00af00\">0</span> (0.00 B)\n",
              "</pre>\n"
            ]
          },
          "metadata": {}
        }
      ]
    },
    {
      "cell_type": "markdown",
      "metadata": {
        "id": "44e91e05"
      },
      "source": [
        "## Compile the model\n",
        "\n",
        "### Subtask:\n",
        "Configure the model for training by specifying the optimizer, loss function (binary crossentropy for binary classification), and evaluation metrics (e.g., accuracy, AUC).\n"
      ]
    },
    {
      "cell_type": "markdown",
      "metadata": {
        "id": "e1f87e16"
      },
      "source": [
        "**Reasoning**:\n",
        "Configure the defined ANN model for training by compiling it with the specified optimizer, loss function, and metrics as requested in the instructions.\n",
        "\n"
      ]
    },
    {
      "cell_type": "code",
      "metadata": {
        "colab": {
          "base_uri": "https://localhost:8080/"
        },
        "id": "d1a9cb45",
        "outputId": "19fdef1c-680c-45aa-ff7b-4022f76a9552"
      },
      "source": [
        "# Configure the model for training (compile)\n",
        "model_ann.compile(\n",
        "    optimizer='adam',          # Adam optimizer is a good default choice\n",
        "    loss='binary_crossentropy',# Suitable for binary classification\n",
        "    metrics=['accuracy', tf.keras.metrics.AUC(name='auc')] # Track accuracy and AUC\n",
        ")\n",
        "\n",
        "print(\"ANN model compilation complete.\")"
      ],
      "execution_count": 18,
      "outputs": [
        {
          "output_type": "stream",
          "name": "stdout",
          "text": [
            "ANN model compilation complete.\n"
          ]
        }
      ]
    },
    {
      "cell_type": "markdown",
      "metadata": {
        "id": "224342f7"
      },
      "source": [
        "## Hyperparameter tuning (optional but recommended)\n",
        "\n",
        "### Subtask:\n",
        "Use a hyperparameter tuning library (like Keras Tuner or Optuna) to find the best combination of hyperparameters for the ANN model (e.g., number of layers, number of units per layer, learning rate, dropout rate).\n"
      ]
    },
    {
      "cell_type": "markdown",
      "metadata": {
        "id": "20fc021d"
      },
      "source": [
        "**Reasoning**:\n",
        "Install the Keras Tuner library if it's not already installed.\n",
        "\n"
      ]
    },
    {
      "cell_type": "code",
      "metadata": {
        "colab": {
          "base_uri": "https://localhost:8080/"
        },
        "id": "257212f0",
        "outputId": "139e96fd-1c2f-4c4f-b814-4b4cbd53bf8f"
      },
      "source": [
        "!pip install keras-tuner -q"
      ],
      "execution_count": 19,
      "outputs": [
        {
          "output_type": "stream",
          "name": "stdout",
          "text": [
            "\u001b[?25l   \u001b[90m━━━━━━━━━━━━━━━━━━━━━━━━━━━━━━━━━━━━━━━━\u001b[0m \u001b[32m0.0/129.1 kB\u001b[0m \u001b[31m?\u001b[0m eta \u001b[36m-:--:--\u001b[0m\r\u001b[2K   \u001b[90m━━━━━━━━━━━━━━━━━━━━━━━━━━━━━━━━━━━━━━━━\u001b[0m \u001b[32m129.1/129.1 kB\u001b[0m \u001b[31m5.0 MB/s\u001b[0m eta \u001b[36m0:00:00\u001b[0m\n",
            "\u001b[?25h"
          ]
        }
      ]
    },
    {
      "cell_type": "markdown",
      "metadata": {
        "id": "f38fe884"
      },
      "source": [
        "**Reasoning**:\n",
        "Define the HyperModel for Keras Tuner and instantiate the tuner object.\n",
        "\n"
      ]
    },
    {
      "cell_type": "code",
      "metadata": {
        "colab": {
          "base_uri": "https://localhost:8080/"
        },
        "id": "1394b2b4",
        "outputId": "a3894411-f7d3-45af-f44f-a1cc23089225"
      },
      "source": [
        "from tensorflow.keras.models import Sequential\n",
        "from tensorflow.keras.layers import Dense, Dropout\n",
        "import keras_tuner as kt\n",
        "\n",
        "# Define the HyperModel\n",
        "def build_hypermodel(hp):\n",
        "    model = Sequential()\n",
        "    model.add(Dense(units=hp.Int('input_units', min_value=32, max_value=128, step=32),\n",
        "                    activation='relu',\n",
        "                    input_shape=(X_train_top_np.shape[1],)))\n",
        "\n",
        "    # Tune the number of hidden layers and units\n",
        "    for i in range(hp.Int('num_hidden_layers', min_value=0, max_value=2)):\n",
        "        model.add(Dense(units=hp.Int(f'units_{i}', min_value=32, max_value=128, step=32),\n",
        "                        activation='relu'))\n",
        "\n",
        "    # Tune dropout rate\n",
        "    if hp.Boolean('dropout'):\n",
        "        model.add(Dropout(hp.Float('dropout_rate', min_value=0.1, max_value=0.5, step=0.1)))\n",
        "\n",
        "    model.add(Dense(units=1, activation='sigmoid'))\n",
        "\n",
        "    # Tune the learning rate for the optimizer\n",
        "    hp_learning_rate = hp.Choice('learning_rate', values=[1e-2, 1e-3, 1e-4])\n",
        "\n",
        "    model.compile(\n",
        "        optimizer=tf.keras.optimizers.Adam(learning_rate=hp_learning_rate),\n",
        "        loss='binary_crossentropy',\n",
        "        metrics=['accuracy', tf.keras.metrics.AUC(name='auc')]\n",
        "    )\n",
        "    return model\n",
        "\n",
        "# Instantiate the tuner\n",
        "tuner = kt.Hyperband(\n",
        "    build_hypermodel,\n",
        "    objective=kt.Objective('val_auc', direction='max'), # Maximize validation AUC\n",
        "    max_epochs=10, # Maximum number of epochs to train a model\n",
        "    factor=3, # Factor by which the number of epochs increases\n",
        "    directory='keras_tuner_dir', # Directory to save the tuning results\n",
        "    project_name='diabetic_readmission_ann'\n",
        ")\n",
        "\n",
        "print(\"HyperModel defined and Keras Tuner instantiated.\")"
      ],
      "execution_count": 20,
      "outputs": [
        {
          "output_type": "stream",
          "name": "stdout",
          "text": [
            "HyperModel defined and Keras Tuner instantiated.\n"
          ]
        },
        {
          "output_type": "stream",
          "name": "stderr",
          "text": [
            "/usr/local/lib/python3.12/dist-packages/keras/src/layers/core/dense.py:93: UserWarning: Do not pass an `input_shape`/`input_dim` argument to a layer. When using Sequential models, prefer using an `Input(shape)` object as the first layer in the model instead.\n",
            "  super().__init__(activity_regularizer=activity_regularizer, **kwargs)\n"
          ]
        }
      ]
    },
    {
      "cell_type": "markdown",
      "metadata": {
        "id": "98109e04"
      },
      "source": [
        "**Reasoning**:\n",
        "Start the hyperparameter search using the defined tuner and the training/validation data.\n",
        "\n"
      ]
    },
    {
      "cell_type": "code",
      "metadata": {
        "colab": {
          "base_uri": "https://localhost:8080/"
        },
        "id": "PkndB6FnifsP",
        "outputId": "c08d4788-d050-4fcd-bf6d-32dc7c17d76e"
      },
      "source": [
        "# Start the hyperparameter search\n",
        "print(\"Starting hyperparameter search...\")\n",
        "tuner.search(X_train_top_np, y_train_top_np, epochs=10, validation_split=0.2)\n",
        "\n",
        "print(\"\\nHyperparameter search complete.\")"
      ],
      "execution_count": 36,
      "outputs": [
        {
          "output_type": "stream",
          "name": "stdout",
          "text": [
            "Starting hyperparameter search...\n",
            "\n",
            "Hyperparameter search complete.\n"
          ]
        }
      ]
    },
    {
      "cell_type": "markdown",
      "metadata": {
        "id": "86bdd84d"
      },
      "source": [
        "**Reasoning**:\n",
        "The task requires analyzing the 'Price' column. First, I need to load the data and examine its structure and content to understand the 'Price' data and identify any potential issues that need cleaning.\n",
        "\n"
      ]
    },
    {
      "cell_type": "code",
      "metadata": {
        "colab": {
          "base_uri": "https://localhost:8080/",
          "height": 1000
        },
        "id": "hlarAzqIjf_x",
        "outputId": "77ed8f43-0035-4480-c28e-337ad0dcc60a"
      },
      "source": [
        "import pandas as pd\n",
        "\n",
        "# Load the dataset\n",
        "df = pd.read_csv('/content/diabetic_data.csv')\n",
        "\n",
        "# Display the first few rows and the info to understand the data\n",
        "display(df.head())\n",
        "display(df.info())"
      ],
      "execution_count": 24,
      "outputs": [
        {
          "output_type": "display_data",
          "data": {
            "text/plain": [
              "   encounter_id  patient_nbr             race  gender      age weight  \\\n",
              "0       2278392      8222157        Caucasian  Female   [0-10)      ?   \n",
              "1        149190     55629189        Caucasian  Female  [10-20)      ?   \n",
              "2         64410     86047875  AfricanAmerican  Female  [20-30)      ?   \n",
              "3        500364     82442376        Caucasian    Male  [30-40)      ?   \n",
              "4         16680     42519267        Caucasian    Male  [40-50)      ?   \n",
              "\n",
              "   admission_type_id  discharge_disposition_id  admission_source_id  \\\n",
              "0                  6                        25                    1   \n",
              "1                  1                         1                    7   \n",
              "2                  1                         1                    7   \n",
              "3                  1                         1                    7   \n",
              "4                  1                         1                    7   \n",
              "\n",
              "   time_in_hospital  ... citoglipton insulin  glyburide-metformin  \\\n",
              "0                 1  ...          No      No                   No   \n",
              "1                 3  ...          No      Up                   No   \n",
              "2                 2  ...          No      No                   No   \n",
              "3                 2  ...          No      Up                   No   \n",
              "4                 1  ...          No  Steady                   No   \n",
              "\n",
              "   glipizide-metformin  glimepiride-pioglitazone  metformin-rosiglitazone  \\\n",
              "0                   No                        No                       No   \n",
              "1                   No                        No                       No   \n",
              "2                   No                        No                       No   \n",
              "3                   No                        No                       No   \n",
              "4                   No                        No                       No   \n",
              "\n",
              "   metformin-pioglitazone  change diabetesMed readmitted  \n",
              "0                      No      No          No         NO  \n",
              "1                      No      Ch         Yes        >30  \n",
              "2                      No      No         Yes         NO  \n",
              "3                      No      Ch         Yes         NO  \n",
              "4                      No      Ch         Yes         NO  \n",
              "\n",
              "[5 rows x 50 columns]"
            ],
            "text/html": [
              "\n",
              "  <div id=\"df-bb8379fa-1470-416f-b26b-18384904fab0\" class=\"colab-df-container\">\n",
              "    <div>\n",
              "<style scoped>\n",
              "    .dataframe tbody tr th:only-of-type {\n",
              "        vertical-align: middle;\n",
              "    }\n",
              "\n",
              "    .dataframe tbody tr th {\n",
              "        vertical-align: top;\n",
              "    }\n",
              "\n",
              "    .dataframe thead th {\n",
              "        text-align: right;\n",
              "    }\n",
              "</style>\n",
              "<table border=\"1\" class=\"dataframe\">\n",
              "  <thead>\n",
              "    <tr style=\"text-align: right;\">\n",
              "      <th></th>\n",
              "      <th>encounter_id</th>\n",
              "      <th>patient_nbr</th>\n",
              "      <th>race</th>\n",
              "      <th>gender</th>\n",
              "      <th>age</th>\n",
              "      <th>weight</th>\n",
              "      <th>admission_type_id</th>\n",
              "      <th>discharge_disposition_id</th>\n",
              "      <th>admission_source_id</th>\n",
              "      <th>time_in_hospital</th>\n",
              "      <th>...</th>\n",
              "      <th>citoglipton</th>\n",
              "      <th>insulin</th>\n",
              "      <th>glyburide-metformin</th>\n",
              "      <th>glipizide-metformin</th>\n",
              "      <th>glimepiride-pioglitazone</th>\n",
              "      <th>metformin-rosiglitazone</th>\n",
              "      <th>metformin-pioglitazone</th>\n",
              "      <th>change</th>\n",
              "      <th>diabetesMed</th>\n",
              "      <th>readmitted</th>\n",
              "    </tr>\n",
              "  </thead>\n",
              "  <tbody>\n",
              "    <tr>\n",
              "      <th>0</th>\n",
              "      <td>2278392</td>\n",
              "      <td>8222157</td>\n",
              "      <td>Caucasian</td>\n",
              "      <td>Female</td>\n",
              "      <td>[0-10)</td>\n",
              "      <td>?</td>\n",
              "      <td>6</td>\n",
              "      <td>25</td>\n",
              "      <td>1</td>\n",
              "      <td>1</td>\n",
              "      <td>...</td>\n",
              "      <td>No</td>\n",
              "      <td>No</td>\n",
              "      <td>No</td>\n",
              "      <td>No</td>\n",
              "      <td>No</td>\n",
              "      <td>No</td>\n",
              "      <td>No</td>\n",
              "      <td>No</td>\n",
              "      <td>No</td>\n",
              "      <td>NO</td>\n",
              "    </tr>\n",
              "    <tr>\n",
              "      <th>1</th>\n",
              "      <td>149190</td>\n",
              "      <td>55629189</td>\n",
              "      <td>Caucasian</td>\n",
              "      <td>Female</td>\n",
              "      <td>[10-20)</td>\n",
              "      <td>?</td>\n",
              "      <td>1</td>\n",
              "      <td>1</td>\n",
              "      <td>7</td>\n",
              "      <td>3</td>\n",
              "      <td>...</td>\n",
              "      <td>No</td>\n",
              "      <td>Up</td>\n",
              "      <td>No</td>\n",
              "      <td>No</td>\n",
              "      <td>No</td>\n",
              "      <td>No</td>\n",
              "      <td>No</td>\n",
              "      <td>Ch</td>\n",
              "      <td>Yes</td>\n",
              "      <td>&gt;30</td>\n",
              "    </tr>\n",
              "    <tr>\n",
              "      <th>2</th>\n",
              "      <td>64410</td>\n",
              "      <td>86047875</td>\n",
              "      <td>AfricanAmerican</td>\n",
              "      <td>Female</td>\n",
              "      <td>[20-30)</td>\n",
              "      <td>?</td>\n",
              "      <td>1</td>\n",
              "      <td>1</td>\n",
              "      <td>7</td>\n",
              "      <td>2</td>\n",
              "      <td>...</td>\n",
              "      <td>No</td>\n",
              "      <td>No</td>\n",
              "      <td>No</td>\n",
              "      <td>No</td>\n",
              "      <td>No</td>\n",
              "      <td>No</td>\n",
              "      <td>No</td>\n",
              "      <td>No</td>\n",
              "      <td>Yes</td>\n",
              "      <td>NO</td>\n",
              "    </tr>\n",
              "    <tr>\n",
              "      <th>3</th>\n",
              "      <td>500364</td>\n",
              "      <td>82442376</td>\n",
              "      <td>Caucasian</td>\n",
              "      <td>Male</td>\n",
              "      <td>[30-40)</td>\n",
              "      <td>?</td>\n",
              "      <td>1</td>\n",
              "      <td>1</td>\n",
              "      <td>7</td>\n",
              "      <td>2</td>\n",
              "      <td>...</td>\n",
              "      <td>No</td>\n",
              "      <td>Up</td>\n",
              "      <td>No</td>\n",
              "      <td>No</td>\n",
              "      <td>No</td>\n",
              "      <td>No</td>\n",
              "      <td>No</td>\n",
              "      <td>Ch</td>\n",
              "      <td>Yes</td>\n",
              "      <td>NO</td>\n",
              "    </tr>\n",
              "    <tr>\n",
              "      <th>4</th>\n",
              "      <td>16680</td>\n",
              "      <td>42519267</td>\n",
              "      <td>Caucasian</td>\n",
              "      <td>Male</td>\n",
              "      <td>[40-50)</td>\n",
              "      <td>?</td>\n",
              "      <td>1</td>\n",
              "      <td>1</td>\n",
              "      <td>7</td>\n",
              "      <td>1</td>\n",
              "      <td>...</td>\n",
              "      <td>No</td>\n",
              "      <td>Steady</td>\n",
              "      <td>No</td>\n",
              "      <td>No</td>\n",
              "      <td>No</td>\n",
              "      <td>No</td>\n",
              "      <td>No</td>\n",
              "      <td>Ch</td>\n",
              "      <td>Yes</td>\n",
              "      <td>NO</td>\n",
              "    </tr>\n",
              "  </tbody>\n",
              "</table>\n",
              "<p>5 rows × 50 columns</p>\n",
              "</div>\n",
              "    <div class=\"colab-df-buttons\">\n",
              "\n",
              "  <div class=\"colab-df-container\">\n",
              "    <button class=\"colab-df-convert\" onclick=\"convertToInteractive('df-bb8379fa-1470-416f-b26b-18384904fab0')\"\n",
              "            title=\"Convert this dataframe to an interactive table.\"\n",
              "            style=\"display:none;\">\n",
              "\n",
              "  <svg xmlns=\"http://www.w3.org/2000/svg\" height=\"24px\" viewBox=\"0 -960 960 960\">\n",
              "    <path d=\"M120-120v-720h720v720H120Zm60-500h600v-160H180v160Zm220 220h160v-160H400v160Zm0 220h160v-160H400v160ZM180-400h160v-160H180v160Zm440 0h160v-160H620v160ZM180-180h160v-160H180v160Zm440 0h160v-160H620v160Z\"/>\n",
              "  </svg>\n",
              "    </button>\n",
              "\n",
              "  <style>\n",
              "    .colab-df-container {\n",
              "      display:flex;\n",
              "      gap: 12px;\n",
              "    }\n",
              "\n",
              "    .colab-df-convert {\n",
              "      background-color: #E8F0FE;\n",
              "      border: none;\n",
              "      border-radius: 50%;\n",
              "      cursor: pointer;\n",
              "      display: none;\n",
              "      fill: #1967D2;\n",
              "      height: 32px;\n",
              "      padding: 0 0 0 0;\n",
              "      width: 32px;\n",
              "    }\n",
              "\n",
              "    .colab-df-convert:hover {\n",
              "      background-color: #E2EBFA;\n",
              "      box-shadow: 0px 1px 2px rgba(60, 64, 67, 0.3), 0px 1px 3px 1px rgba(60, 64, 67, 0.15);\n",
              "      fill: #174EA6;\n",
              "    }\n",
              "\n",
              "    .colab-df-buttons div {\n",
              "      margin-bottom: 4px;\n",
              "    }\n",
              "\n",
              "    [theme=dark] .colab-df-convert {\n",
              "      background-color: #3B4455;\n",
              "      fill: #D2E3FC;\n",
              "    }\n",
              "\n",
              "    [theme=dark] .colab-df-convert:hover {\n",
              "      background-color: #434B5C;\n",
              "      box-shadow: 0px 1px 3px 1px rgba(0, 0, 0, 0.15);\n",
              "      filter: drop-shadow(0px 1px 2px rgba(0, 0, 0, 0.3));\n",
              "      fill: #FFFFFF;\n",
              "    }\n",
              "  </style>\n",
              "\n",
              "    <script>\n",
              "      const buttonEl =\n",
              "        document.querySelector('#df-bb8379fa-1470-416f-b26b-18384904fab0 button.colab-df-convert');\n",
              "      buttonEl.style.display =\n",
              "        google.colab.kernel.accessAllowed ? 'block' : 'none';\n",
              "\n",
              "      async function convertToInteractive(key) {\n",
              "        const element = document.querySelector('#df-bb8379fa-1470-416f-b26b-18384904fab0');\n",
              "        const dataTable =\n",
              "          await google.colab.kernel.invokeFunction('convertToInteractive',\n",
              "                                                    [key], {});\n",
              "        if (!dataTable) return;\n",
              "\n",
              "        const docLinkHtml = 'Like what you see? Visit the ' +\n",
              "          '<a target=\"_blank\" href=https://colab.research.google.com/notebooks/data_table.ipynb>data table notebook</a>'\n",
              "          + ' to learn more about interactive tables.';\n",
              "        element.innerHTML = '';\n",
              "        dataTable['output_type'] = 'display_data';\n",
              "        await google.colab.output.renderOutput(dataTable, element);\n",
              "        const docLink = document.createElement('div');\n",
              "        docLink.innerHTML = docLinkHtml;\n",
              "        element.appendChild(docLink);\n",
              "      }\n",
              "    </script>\n",
              "  </div>\n",
              "\n",
              "\n",
              "    <div id=\"df-2a16427e-2b4c-44eb-8935-c5b4ca02b069\">\n",
              "      <button class=\"colab-df-quickchart\" onclick=\"quickchart('df-2a16427e-2b4c-44eb-8935-c5b4ca02b069')\"\n",
              "                title=\"Suggest charts\"\n",
              "                style=\"display:none;\">\n",
              "\n",
              "<svg xmlns=\"http://www.w3.org/2000/svg\" height=\"24px\"viewBox=\"0 0 24 24\"\n",
              "     width=\"24px\">\n",
              "    <g>\n",
              "        <path d=\"M19 3H5c-1.1 0-2 .9-2 2v14c0 1.1.9 2 2 2h14c1.1 0 2-.9 2-2V5c0-1.1-.9-2-2-2zM9 17H7v-7h2v7zm4 0h-2V7h2v10zm4 0h-2v-4h2v4z\"/>\n",
              "    </g>\n",
              "</svg>\n",
              "      </button>\n",
              "\n",
              "<style>\n",
              "  .colab-df-quickchart {\n",
              "      --bg-color: #E8F0FE;\n",
              "      --fill-color: #1967D2;\n",
              "      --hover-bg-color: #E2EBFA;\n",
              "      --hover-fill-color: #174EA6;\n",
              "      --disabled-fill-color: #AAA;\n",
              "      --disabled-bg-color: #DDD;\n",
              "  }\n",
              "\n",
              "  [theme=dark] .colab-df-quickchart {\n",
              "      --bg-color: #3B4455;\n",
              "      --fill-color: #D2E3FC;\n",
              "      --hover-bg-color: #434B5C;\n",
              "      --hover-fill-color: #FFFFFF;\n",
              "      --disabled-bg-color: #3B4455;\n",
              "      --disabled-fill-color: #666;\n",
              "  }\n",
              "\n",
              "  .colab-df-quickchart {\n",
              "    background-color: var(--bg-color);\n",
              "    border: none;\n",
              "    border-radius: 50%;\n",
              "    cursor: pointer;\n",
              "    display: none;\n",
              "    fill: var(--fill-color);\n",
              "    height: 32px;\n",
              "    padding: 0;\n",
              "    width: 32px;\n",
              "  }\n",
              "\n",
              "  .colab-df-quickchart:hover {\n",
              "    background-color: var(--hover-bg-color);\n",
              "    box-shadow: 0 1px 2px rgba(60, 64, 67, 0.3), 0 1px 3px 1px rgba(60, 64, 67, 0.15);\n",
              "    fill: var(--button-hover-fill-color);\n",
              "  }\n",
              "\n",
              "  .colab-df-quickchart-complete:disabled,\n",
              "  .colab-df-quickchart-complete:disabled:hover {\n",
              "    background-color: var(--disabled-bg-color);\n",
              "    fill: var(--disabled-fill-color);\n",
              "    box-shadow: none;\n",
              "  }\n",
              "\n",
              "  .colab-df-spinner {\n",
              "    border: 2px solid var(--fill-color);\n",
              "    border-color: transparent;\n",
              "    border-bottom-color: var(--fill-color);\n",
              "    animation:\n",
              "      spin 1s steps(1) infinite;\n",
              "  }\n",
              "\n",
              "  @keyframes spin {\n",
              "    0% {\n",
              "      border-color: transparent;\n",
              "      border-bottom-color: var(--fill-color);\n",
              "      border-left-color: var(--fill-color);\n",
              "    }\n",
              "    20% {\n",
              "      border-color: transparent;\n",
              "      border-left-color: var(--fill-color);\n",
              "      border-top-color: var(--fill-color);\n",
              "    }\n",
              "    30% {\n",
              "      border-color: transparent;\n",
              "      border-left-color: var(--fill-color);\n",
              "      border-top-color: var(--fill-color);\n",
              "      border-right-color: var(--fill-color);\n",
              "    }\n",
              "    40% {\n",
              "      border-color: transparent;\n",
              "      border-right-color: var(--fill-color);\n",
              "      border-top-color: var(--fill-color);\n",
              "    }\n",
              "    60% {\n",
              "      border-color: transparent;\n",
              "      border-right-color: var(--fill-color);\n",
              "    }\n",
              "    80% {\n",
              "      border-color: transparent;\n",
              "      border-right-color: var(--fill-color);\n",
              "      border-bottom-color: var(--fill-color);\n",
              "    }\n",
              "    90% {\n",
              "      border-color: transparent;\n",
              "      border-bottom-color: var(--fill-color);\n",
              "    }\n",
              "  }\n",
              "</style>\n",
              "\n",
              "      <script>\n",
              "        async function quickchart(key) {\n",
              "          const quickchartButtonEl =\n",
              "            document.querySelector('#' + key + ' button');\n",
              "          quickchartButtonEl.disabled = true;  // To prevent multiple clicks.\n",
              "          quickchartButtonEl.classList.add('colab-df-spinner');\n",
              "          try {\n",
              "            const charts = await google.colab.kernel.invokeFunction(\n",
              "                'suggestCharts', [key], {});\n",
              "          } catch (error) {\n",
              "            console.error('Error during call to suggestCharts:', error);\n",
              "          }\n",
              "          quickchartButtonEl.classList.remove('colab-df-spinner');\n",
              "          quickchartButtonEl.classList.add('colab-df-quickchart-complete');\n",
              "        }\n",
              "        (() => {\n",
              "          let quickchartButtonEl =\n",
              "            document.querySelector('#df-2a16427e-2b4c-44eb-8935-c5b4ca02b069 button');\n",
              "          quickchartButtonEl.style.display =\n",
              "            google.colab.kernel.accessAllowed ? 'block' : 'none';\n",
              "        })();\n",
              "      </script>\n",
              "    </div>\n",
              "\n",
              "    </div>\n",
              "  </div>\n"
            ],
            "application/vnd.google.colaboratory.intrinsic+json": {
              "type": "dataframe"
            }
          },
          "metadata": {}
        },
        {
          "output_type": "stream",
          "name": "stdout",
          "text": [
            "<class 'pandas.core.frame.DataFrame'>\n",
            "RangeIndex: 101766 entries, 0 to 101765\n",
            "Data columns (total 50 columns):\n",
            " #   Column                    Non-Null Count   Dtype \n",
            "---  ------                    --------------   ----- \n",
            " 0   encounter_id              101766 non-null  int64 \n",
            " 1   patient_nbr               101766 non-null  int64 \n",
            " 2   race                      101766 non-null  object\n",
            " 3   gender                    101766 non-null  object\n",
            " 4   age                       101766 non-null  object\n",
            " 5   weight                    101766 non-null  object\n",
            " 6   admission_type_id         101766 non-null  int64 \n",
            " 7   discharge_disposition_id  101766 non-null  int64 \n",
            " 8   admission_source_id       101766 non-null  int64 \n",
            " 9   time_in_hospital          101766 non-null  int64 \n",
            " 10  payer_code                101766 non-null  object\n",
            " 11  medical_specialty         101766 non-null  object\n",
            " 12  num_lab_procedures        101766 non-null  int64 \n",
            " 13  num_procedures            101766 non-null  int64 \n",
            " 14  num_medications           101766 non-null  int64 \n",
            " 15  number_outpatient         101766 non-null  int64 \n",
            " 16  number_emergency          101766 non-null  int64 \n",
            " 17  number_inpatient          101766 non-null  int64 \n",
            " 18  diag_1                    101766 non-null  object\n",
            " 19  diag_2                    101766 non-null  object\n",
            " 20  diag_3                    101766 non-null  object\n",
            " 21  number_diagnoses          101766 non-null  int64 \n",
            " 22  max_glu_serum             5346 non-null    object\n",
            " 23  A1Cresult                 17018 non-null   object\n",
            " 24  metformin                 101766 non-null  object\n",
            " 25  repaglinide               101766 non-null  object\n",
            " 26  nateglinide               101766 non-null  object\n",
            " 27  chlorpropamide            101766 non-null  object\n",
            " 28  glimepiride               101766 non-null  object\n",
            " 29  acetohexamide             101766 non-null  object\n",
            " 30  glipizide                 101766 non-null  object\n",
            " 31  glyburide                 101766 non-null  object\n",
            " 32  tolbutamide               101766 non-null  object\n",
            " 33  pioglitazone              101766 non-null  object\n",
            " 34  rosiglitazone             101766 non-null  object\n",
            " 35  acarbose                  101766 non-null  object\n",
            " 36  miglitol                  101766 non-null  object\n",
            " 37  troglitazone              101766 non-null  object\n",
            " 38  tolazamide                101766 non-null  object\n",
            " 39  examide                   101766 non-null  object\n",
            " 40  citoglipton               101766 non-null  object\n",
            " 41  insulin                   101766 non-null  object\n",
            " 42  glyburide-metformin       101766 non-null  object\n",
            " 43  glipizide-metformin       101766 non-null  object\n",
            " 44  glimepiride-pioglitazone  101766 non-null  object\n",
            " 45  metformin-rosiglitazone   101766 non-null  object\n",
            " 46  metformin-pioglitazone    101766 non-null  object\n",
            " 47  change                    101766 non-null  object\n",
            " 48  diabetesMed               101766 non-null  object\n",
            " 49  readmitted                101766 non-null  object\n",
            "dtypes: int64(13), object(37)\n",
            "memory usage: 38.8+ MB\n"
          ]
        },
        {
          "output_type": "display_data",
          "data": {
            "text/plain": [
              "None"
            ]
          },
          "metadata": {}
        }
      ]
    },
    {
      "cell_type": "markdown",
      "metadata": {
        "id": "b2d11a4a"
      },
      "source": [
        "## Evaluate the ANN Model\n",
        "\n",
        "### Subtask:\n",
        "Evaluate the trained ANN model on the test set (`X_test_top_np`, `y_test_top_np`) using appropriate metrics for imbalanced classification (e.g., precision, recall, F1-score, AUC-ROC)."
      ]
    },
    {
      "cell_type": "markdown",
      "metadata": {
        "id": "4e82f2b3"
      },
      "source": [
        "**Reasoning**:\n",
        "Evaluate the trained ANN model on the test set using the test data and print the classification report and AUC-ROC score."
      ]
    },
    {
      "cell_type": "code",
      "metadata": {
        "colab": {
          "base_uri": "https://localhost:8080/"
        },
        "id": "ff554e4e",
        "outputId": "7d2e0ede-b61f-48ed-fa79-b5284a3efc12"
      },
      "source": [
        "# Evaluate the model on the test set\n",
        "print(\"\\n--- Evaluating the Tuned ANN Model ---\")\n",
        "loss, accuracy, auc = model_ann_tuned.evaluate(X_test_top_np, y_test_top_np, verbose=0)\n",
        "\n",
        "print(f\"Test Loss: {loss:.4f}\")\n",
        "print(f\"Test Accuracy: {accuracy:.4f}\")\n",
        "print(f\"Test AUC-ROC Score: {auc:.4f}\")\n",
        "\n",
        "# Get predictions for classification report\n",
        "y_pred_ann_tuned = (model_ann_tuned.predict(X_test_top_np) > 0.5).astype(\"int32\")\n",
        "\n",
        "print(\"\\nClassification Report (Tuned ANN Model):\")\n",
        "print(classification_report(y_test_top_np, y_pred_ann_tuned, target_names=['Not Readmitted', 'Readmitted (<30)']))"
      ],
      "execution_count": 28,
      "outputs": [
        {
          "output_type": "stream",
          "name": "stdout",
          "text": [
            "\n",
            "--- Evaluating the Tuned ANN Model ---\n",
            "Test Loss: 0.2759\n",
            "Test Accuracy: 0.9208\n",
            "Test AUC-ROC Score: 0.6292\n",
            "\u001b[1m438/438\u001b[0m \u001b[32m━━━━━━━━━━━━━━━━━━━━\u001b[0m\u001b[37m\u001b[0m \u001b[1m0s\u001b[0m 533us/step\n",
            "\n",
            "Classification Report (Tuned ANN Model):\n",
            "                  precision    recall  f1-score   support\n",
            "\n",
            "  Not Readmitted       0.92      1.00      0.96     12898\n",
            "Readmitted (<30)       0.38      0.01      0.03      1100\n",
            "\n",
            "        accuracy                           0.92     13998\n",
            "       macro avg       0.65      0.51      0.49     13998\n",
            "    weighted avg       0.88      0.92      0.89     13998\n",
            "\n"
          ]
        }
      ]
    },
    {
      "cell_type": "markdown",
      "metadata": {
        "id": "b15b3f02"
      },
      "source": [
        "## Build and Train Final Model with Best Hyperparameters\n",
        "\n",
        "### Subtask:\n",
        "Retrieve the best hyperparameters from the tuner and build the final ANN model using these parameters. Train the model on the full training dataset (`X_train_top_np`, `y_train_top_np`)."
      ]
    },
    {
      "cell_type": "markdown",
      "metadata": {
        "id": "39f3db3e"
      },
      "source": [
        "**Reasoning**:\n",
        "Get the best hyperparameters from the tuner, build the final model using these hyperparameters, and train the model on the complete training data."
      ]
    },
    {
      "cell_type": "code",
      "metadata": {
        "colab": {
          "base_uri": "https://localhost:8080/"
        },
        "id": "1b18a472",
        "outputId": "27f6779a-bf87-4cc6-f66c-a609caaed134"
      },
      "source": [
        "# Get the best hyperparameters\n",
        "best_hps = tuner.get_best_hyperparameters(num_trials=1)[0]\n",
        "\n",
        "print(\"Best Hyperparameters:\")\n",
        "print(best_hps.values)\n",
        "\n",
        "# Build the final model with the best hyperparameters\n",
        "model_ann_tuned = tuner.hypermodel.build(best_hps)\n",
        "\n",
        "# Train the model on the full training data\n",
        "print(\"\\nTraining the final model with best hyperparameters...\")\n",
        "history = model_ann_tuned.fit(\n",
        "    X_train_top_np,\n",
        "    y_train_top_np,\n",
        "    epochs=50, # Train for more epochs with the best model\n",
        "    batch_size=32, # You can tune batch size as well\n",
        "    validation_split=0.2, # Use a validation split during training\n",
        "    verbose=1 # Show training progress\n",
        ")\n",
        "\n",
        "print(\"\\nFinal model training complete.\")"
      ],
      "execution_count": 27,
      "outputs": [
        {
          "output_type": "stream",
          "name": "stdout",
          "text": [
            "Best Hyperparameters:\n",
            "{'input_units': 32, 'num_hidden_layers': 2, 'dropout': False, 'learning_rate': 0.01, 'units_0': 64, 'dropout_rate': 0.1, 'units_1': 64, 'tuner/epochs': 10, 'tuner/initial_epoch': 0, 'tuner/bracket': 0, 'tuner/round': 0}\n",
            "\n",
            "Training the final model with best hyperparameters...\n",
            "Epoch 1/50\n"
          ]
        },
        {
          "output_type": "stream",
          "name": "stderr",
          "text": [
            "/usr/local/lib/python3.12/dist-packages/keras/src/layers/core/dense.py:93: UserWarning: Do not pass an `input_shape`/`input_dim` argument to a layer. When using Sequential models, prefer using an `Input(shape)` object as the first layer in the model instead.\n",
            "  super().__init__(activity_regularizer=activity_regularizer, **kwargs)\n"
          ]
        },
        {
          "output_type": "stream",
          "name": "stdout",
          "text": [
            "\u001b[1m1400/1400\u001b[0m \u001b[32m━━━━━━━━━━━━━━━━━━━━\u001b[0m\u001b[37m\u001b[0m \u001b[1m3s\u001b[0m 1ms/step - accuracy: 0.9177 - auc: 0.6042 - loss: 0.2818 - val_accuracy: 0.9236 - val_auc: 0.6101 - val_loss: 0.2664\n",
            "Epoch 2/50\n",
            "\u001b[1m1400/1400\u001b[0m \u001b[32m━━━━━━━━━━━━━━━━━━━━\u001b[0m\u001b[37m\u001b[0m \u001b[1m2s\u001b[0m 1ms/step - accuracy: 0.9236 - auc: 0.6210 - loss: 0.2638 - val_accuracy: 0.9236 - val_auc: 0.6222 - val_loss: 0.2623\n",
            "Epoch 3/50\n",
            "\u001b[1m1400/1400\u001b[0m \u001b[32m━━━━━━━━━━━━━━━━━━━━\u001b[0m\u001b[37m\u001b[0m \u001b[1m2s\u001b[0m 1ms/step - accuracy: 0.9210 - auc: 0.6177 - loss: 0.2695 - val_accuracy: 0.9236 - val_auc: 0.6262 - val_loss: 0.2633\n",
            "Epoch 4/50\n",
            "\u001b[1m1400/1400\u001b[0m \u001b[32m━━━━━━━━━━━━━━━━━━━━\u001b[0m\u001b[37m\u001b[0m \u001b[1m2s\u001b[0m 1ms/step - accuracy: 0.9184 - auc: 0.6322 - loss: 0.2743 - val_accuracy: 0.9236 - val_auc: 0.6228 - val_loss: 0.2649\n",
            "Epoch 5/50\n",
            "\u001b[1m1400/1400\u001b[0m \u001b[32m━━━━━━━━━━━━━━━━━━━━\u001b[0m\u001b[37m\u001b[0m \u001b[1m2s\u001b[0m 1ms/step - accuracy: 0.9228 - auc: 0.6418 - loss: 0.2627 - val_accuracy: 0.9236 - val_auc: 0.6235 - val_loss: 0.2634\n",
            "Epoch 6/50\n",
            "\u001b[1m1400/1400\u001b[0m \u001b[32m━━━━━━━━━━━━━━━━━━━━\u001b[0m\u001b[37m\u001b[0m \u001b[1m2s\u001b[0m 1ms/step - accuracy: 0.9206 - auc: 0.6476 - loss: 0.2679 - val_accuracy: 0.9236 - val_auc: 0.6311 - val_loss: 0.2626\n",
            "Epoch 7/50\n",
            "\u001b[1m1400/1400\u001b[0m \u001b[32m━━━━━━━━━━━━━━━━━━━━\u001b[0m\u001b[37m\u001b[0m \u001b[1m2s\u001b[0m 1ms/step - accuracy: 0.9179 - auc: 0.6377 - loss: 0.2739 - val_accuracy: 0.9236 - val_auc: 0.6290 - val_loss: 0.2640\n",
            "Epoch 8/50\n",
            "\u001b[1m1400/1400\u001b[0m \u001b[32m━━━━━━━━━━━━━━━━━━━━\u001b[0m\u001b[37m\u001b[0m \u001b[1m2s\u001b[0m 1ms/step - accuracy: 0.9217 - auc: 0.6438 - loss: 0.2643 - val_accuracy: 0.9237 - val_auc: 0.6278 - val_loss: 0.2613\n",
            "Epoch 9/50\n",
            "\u001b[1m1400/1400\u001b[0m \u001b[32m━━━━━━━━━━━━━━━━━━━━\u001b[0m\u001b[37m\u001b[0m \u001b[1m2s\u001b[0m 1ms/step - accuracy: 0.9229 - auc: 0.6412 - loss: 0.2624 - val_accuracy: 0.9236 - val_auc: 0.6195 - val_loss: 0.2635\n",
            "Epoch 10/50\n",
            "\u001b[1m1400/1400\u001b[0m \u001b[32m━━━━━━━━━━━━━━━━━━━━\u001b[0m\u001b[37m\u001b[0m \u001b[1m2s\u001b[0m 1ms/step - accuracy: 0.9191 - auc: 0.6458 - loss: 0.2709 - val_accuracy: 0.9236 - val_auc: 0.6305 - val_loss: 0.2617\n",
            "Epoch 11/50\n",
            "\u001b[1m1400/1400\u001b[0m \u001b[32m━━━━━━━━━━━━━━━━━━━━\u001b[0m\u001b[37m\u001b[0m \u001b[1m2s\u001b[0m 1ms/step - accuracy: 0.9209 - auc: 0.6441 - loss: 0.2661 - val_accuracy: 0.9236 - val_auc: 0.6292 - val_loss: 0.2636\n",
            "Epoch 12/50\n",
            "\u001b[1m1400/1400\u001b[0m \u001b[32m━━━━━━━━━━━━━━━━━━━━\u001b[0m\u001b[37m\u001b[0m \u001b[1m2s\u001b[0m 1ms/step - accuracy: 0.9212 - auc: 0.6553 - loss: 0.2648 - val_accuracy: 0.9237 - val_auc: 0.6209 - val_loss: 0.2649\n",
            "Epoch 13/50\n",
            "\u001b[1m1400/1400\u001b[0m \u001b[32m━━━━━━━━━━━━━━━━━━━━\u001b[0m\u001b[37m\u001b[0m \u001b[1m2s\u001b[0m 1ms/step - accuracy: 0.9208 - auc: 0.6458 - loss: 0.2673 - val_accuracy: 0.9236 - val_auc: 0.6290 - val_loss: 0.2630\n",
            "Epoch 14/50\n",
            "\u001b[1m1400/1400\u001b[0m \u001b[32m━━━━━━━━━━━━━━━━━━━━\u001b[0m\u001b[37m\u001b[0m \u001b[1m2s\u001b[0m 1ms/step - accuracy: 0.9222 - auc: 0.6461 - loss: 0.2641 - val_accuracy: 0.9236 - val_auc: 0.6315 - val_loss: 0.2639\n",
            "Epoch 15/50\n",
            "\u001b[1m1400/1400\u001b[0m \u001b[32m━━━━━━━━━━━━━━━━━━━━\u001b[0m\u001b[37m\u001b[0m \u001b[1m2s\u001b[0m 1ms/step - accuracy: 0.9222 - auc: 0.6495 - loss: 0.2629 - val_accuracy: 0.9236 - val_auc: 0.6244 - val_loss: 0.2631\n",
            "Epoch 16/50\n",
            "\u001b[1m1400/1400\u001b[0m \u001b[32m━━━━━━━━━━━━━━━━━━━━\u001b[0m\u001b[37m\u001b[0m \u001b[1m2s\u001b[0m 1ms/step - accuracy: 0.9198 - auc: 0.6517 - loss: 0.2679 - val_accuracy: 0.9236 - val_auc: 0.6266 - val_loss: 0.2634\n",
            "Epoch 17/50\n",
            "\u001b[1m1400/1400\u001b[0m \u001b[32m━━━━━━━━━━━━━━━━━━━━\u001b[0m\u001b[37m\u001b[0m \u001b[1m2s\u001b[0m 1ms/step - accuracy: 0.9207 - auc: 0.6535 - loss: 0.2650 - val_accuracy: 0.9236 - val_auc: 0.6240 - val_loss: 0.2640\n",
            "Epoch 18/50\n",
            "\u001b[1m1400/1400\u001b[0m \u001b[32m━━━━━━━━━━━━━━━━━━━━\u001b[0m\u001b[37m\u001b[0m \u001b[1m2s\u001b[0m 1ms/step - accuracy: 0.9221 - auc: 0.6578 - loss: 0.2622 - val_accuracy: 0.9236 - val_auc: 0.6220 - val_loss: 0.2624\n",
            "Epoch 19/50\n",
            "\u001b[1m1400/1400\u001b[0m \u001b[32m━━━━━━━━━━━━━━━━━━━━\u001b[0m\u001b[37m\u001b[0m \u001b[1m2s\u001b[0m 1ms/step - accuracy: 0.9210 - auc: 0.6520 - loss: 0.2663 - val_accuracy: 0.9236 - val_auc: 0.6301 - val_loss: 0.2622\n",
            "Epoch 20/50\n",
            "\u001b[1m1400/1400\u001b[0m \u001b[32m━━━━━━━━━━━━━━━━━━━━\u001b[0m\u001b[37m\u001b[0m \u001b[1m2s\u001b[0m 1ms/step - accuracy: 0.9228 - auc: 0.6484 - loss: 0.2616 - val_accuracy: 0.9236 - val_auc: 0.6297 - val_loss: 0.2624\n",
            "Epoch 21/50\n",
            "\u001b[1m1400/1400\u001b[0m \u001b[32m━━━━━━━━━━━━━━━━━━━━\u001b[0m\u001b[37m\u001b[0m \u001b[1m2s\u001b[0m 1ms/step - accuracy: 0.9235 - auc: 0.6491 - loss: 0.2601 - val_accuracy: 0.9236 - val_auc: 0.6289 - val_loss: 0.2714\n",
            "Epoch 22/50\n",
            "\u001b[1m1400/1400\u001b[0m \u001b[32m━━━━━━━━━━━━━━━━━━━━\u001b[0m\u001b[37m\u001b[0m \u001b[1m2s\u001b[0m 1ms/step - accuracy: 0.9234 - auc: 0.6503 - loss: 0.2635 - val_accuracy: 0.9236 - val_auc: 0.6272 - val_loss: 0.2634\n",
            "Epoch 23/50\n",
            "\u001b[1m1400/1400\u001b[0m \u001b[32m━━━━━━━━━━━━━━━━━━━━\u001b[0m\u001b[37m\u001b[0m \u001b[1m2s\u001b[0m 1ms/step - accuracy: 0.9203 - auc: 0.6611 - loss: 0.2656 - val_accuracy: 0.9236 - val_auc: 0.6265 - val_loss: 0.2639\n",
            "Epoch 24/50\n",
            "\u001b[1m1400/1400\u001b[0m \u001b[32m━━━━━━━━━━━━━━━━━━━━\u001b[0m\u001b[37m\u001b[0m \u001b[1m2s\u001b[0m 1ms/step - accuracy: 0.9201 - auc: 0.6475 - loss: 0.2677 - val_accuracy: 0.9236 - val_auc: 0.6268 - val_loss: 0.2624\n",
            "Epoch 25/50\n",
            "\u001b[1m1400/1400\u001b[0m \u001b[32m━━━━━━━━━━━━━━━━━━━━\u001b[0m\u001b[37m\u001b[0m \u001b[1m2s\u001b[0m 1ms/step - accuracy: 0.9233 - auc: 0.6525 - loss: 0.2600 - val_accuracy: 0.9236 - val_auc: 0.6255 - val_loss: 0.2635\n",
            "Epoch 26/50\n",
            "\u001b[1m1400/1400\u001b[0m \u001b[32m━━━━━━━━━━━━━━━━━━━━\u001b[0m\u001b[37m\u001b[0m \u001b[1m2s\u001b[0m 1ms/step - accuracy: 0.9203 - auc: 0.6654 - loss: 0.2667 - val_accuracy: 0.9236 - val_auc: 0.6263 - val_loss: 0.2619\n",
            "Epoch 27/50\n",
            "\u001b[1m1400/1400\u001b[0m \u001b[32m━━━━━━━━━━━━━━━━━━━━\u001b[0m\u001b[37m\u001b[0m \u001b[1m2s\u001b[0m 1ms/step - accuracy: 0.9219 - auc: 0.6605 - loss: 0.2617 - val_accuracy: 0.9236 - val_auc: 0.6256 - val_loss: 0.2624\n",
            "Epoch 28/50\n",
            "\u001b[1m1400/1400\u001b[0m \u001b[32m━━━━━━━━━━━━━━━━━━━━\u001b[0m\u001b[37m\u001b[0m \u001b[1m2s\u001b[0m 1ms/step - accuracy: 0.9206 - auc: 0.6566 - loss: 0.2650 - val_accuracy: 0.9236 - val_auc: 0.6229 - val_loss: 0.2623\n",
            "Epoch 29/50\n",
            "\u001b[1m1400/1400\u001b[0m \u001b[32m━━━━━━━━━━━━━━━━━━━━\u001b[0m\u001b[37m\u001b[0m \u001b[1m2s\u001b[0m 1ms/step - accuracy: 0.9200 - auc: 0.6635 - loss: 0.2694 - val_accuracy: 0.9236 - val_auc: 0.6257 - val_loss: 0.2642\n",
            "Epoch 30/50\n",
            "\u001b[1m1400/1400\u001b[0m \u001b[32m━━━━━━━━━━━━━━━━━━━━\u001b[0m\u001b[37m\u001b[0m \u001b[1m2s\u001b[0m 1ms/step - accuracy: 0.9231 - auc: 0.6588 - loss: 0.2595 - val_accuracy: 0.9236 - val_auc: 0.6257 - val_loss: 0.2639\n",
            "Epoch 31/50\n",
            "\u001b[1m1400/1400\u001b[0m \u001b[32m━━━━━━━━━━━━━━━━━━━━\u001b[0m\u001b[37m\u001b[0m \u001b[1m2s\u001b[0m 1ms/step - accuracy: 0.9208 - auc: 0.6573 - loss: 0.2641 - val_accuracy: 0.9236 - val_auc: 0.6229 - val_loss: 0.2636\n",
            "Epoch 32/50\n",
            "\u001b[1m1400/1400\u001b[0m \u001b[32m━━━━━━━━━━━━━━━━━━━━\u001b[0m\u001b[37m\u001b[0m \u001b[1m2s\u001b[0m 1ms/step - accuracy: 0.9210 - auc: 0.6558 - loss: 0.2646 - val_accuracy: 0.9236 - val_auc: 0.6169 - val_loss: 0.2727\n",
            "Epoch 33/50\n",
            "\u001b[1m1400/1400\u001b[0m \u001b[32m━━━━━━━━━━━━━━━━━━━━\u001b[0m\u001b[37m\u001b[0m \u001b[1m2s\u001b[0m 1ms/step - accuracy: 0.9213 - auc: 0.6459 - loss: 0.2657 - val_accuracy: 0.9236 - val_auc: 0.6174 - val_loss: 0.2662\n",
            "Epoch 34/50\n",
            "\u001b[1m1400/1400\u001b[0m \u001b[32m━━━━━━━━━━━━━━━━━━━━\u001b[0m\u001b[37m\u001b[0m \u001b[1m2s\u001b[0m 1ms/step - accuracy: 0.9208 - auc: 0.6384 - loss: 0.2675 - val_accuracy: 0.9235 - val_auc: 0.6257 - val_loss: 0.2696\n",
            "Epoch 35/50\n",
            "\u001b[1m1400/1400\u001b[0m \u001b[32m━━━━━━━━━━━━━━━━━━━━\u001b[0m\u001b[37m\u001b[0m \u001b[1m2s\u001b[0m 1ms/step - accuracy: 0.9221 - auc: 0.6534 - loss: 0.2623 - val_accuracy: 0.9235 - val_auc: 0.6257 - val_loss: 0.2651\n",
            "Epoch 36/50\n",
            "\u001b[1m1400/1400\u001b[0m \u001b[32m━━━━━━━━━━━━━━━━━━━━\u001b[0m\u001b[37m\u001b[0m \u001b[1m2s\u001b[0m 1ms/step - accuracy: 0.9209 - auc: 0.6601 - loss: 0.2645 - val_accuracy: 0.9235 - val_auc: 0.6207 - val_loss: 0.2650\n",
            "Epoch 37/50\n",
            "\u001b[1m1400/1400\u001b[0m \u001b[32m━━━━━━━━━━━━━━━━━━━━\u001b[0m\u001b[37m\u001b[0m \u001b[1m2s\u001b[0m 1ms/step - accuracy: 0.9196 - auc: 0.6550 - loss: 0.2685 - val_accuracy: 0.9236 - val_auc: 0.6259 - val_loss: 0.2654\n",
            "Epoch 38/50\n",
            "\u001b[1m1400/1400\u001b[0m \u001b[32m━━━━━━━━━━━━━━━━━━━━\u001b[0m\u001b[37m\u001b[0m \u001b[1m2s\u001b[0m 1ms/step - accuracy: 0.9228 - auc: 0.6657 - loss: 0.2584 - val_accuracy: 0.9232 - val_auc: 0.6204 - val_loss: 0.2663\n",
            "Epoch 39/50\n",
            "\u001b[1m1400/1400\u001b[0m \u001b[32m━━━━━━━━━━━━━━━━━━━━\u001b[0m\u001b[37m\u001b[0m \u001b[1m2s\u001b[0m 1ms/step - accuracy: 0.9201 - auc: 0.6572 - loss: 0.2668 - val_accuracy: 0.9236 - val_auc: 0.6184 - val_loss: 0.2634\n",
            "Epoch 40/50\n",
            "\u001b[1m1400/1400\u001b[0m \u001b[32m━━━━━━━━━━━━━━━━━━━━\u001b[0m\u001b[37m\u001b[0m \u001b[1m2s\u001b[0m 1ms/step - accuracy: 0.9210 - auc: 0.6518 - loss: 0.2652 - val_accuracy: 0.9236 - val_auc: 0.6211 - val_loss: 0.2642\n",
            "Epoch 41/50\n",
            "\u001b[1m1400/1400\u001b[0m \u001b[32m━━━━━━━━━━━━━━━━━━━━\u001b[0m\u001b[37m\u001b[0m \u001b[1m2s\u001b[0m 1ms/step - accuracy: 0.9212 - auc: 0.6573 - loss: 0.2638 - val_accuracy: 0.9236 - val_auc: 0.6250 - val_loss: 0.2651\n",
            "Epoch 42/50\n",
            "\u001b[1m1400/1400\u001b[0m \u001b[32m━━━━━━━━━━━━━━━━━━━━\u001b[0m\u001b[37m\u001b[0m \u001b[1m2s\u001b[0m 1ms/step - accuracy: 0.9223 - auc: 0.6550 - loss: 0.2612 - val_accuracy: 0.9229 - val_auc: 0.6294 - val_loss: 0.2674\n",
            "Epoch 43/50\n",
            "\u001b[1m1400/1400\u001b[0m \u001b[32m━━━━━━━━━━━━━━━━━━━━\u001b[0m\u001b[37m\u001b[0m \u001b[1m2s\u001b[0m 1ms/step - accuracy: 0.9189 - auc: 0.6596 - loss: 0.2682 - val_accuracy: 0.9236 - val_auc: 0.6238 - val_loss: 0.2646\n",
            "Epoch 44/50\n",
            "\u001b[1m1400/1400\u001b[0m \u001b[32m━━━━━━━━━━━━━━━━━━━━\u001b[0m\u001b[37m\u001b[0m \u001b[1m2s\u001b[0m 1ms/step - accuracy: 0.9208 - auc: 0.6592 - loss: 0.2648 - val_accuracy: 0.9234 - val_auc: 0.6239 - val_loss: 0.2676\n",
            "Epoch 45/50\n",
            "\u001b[1m1400/1400\u001b[0m \u001b[32m━━━━━━━━━━━━━━━━━━━━\u001b[0m\u001b[37m\u001b[0m \u001b[1m2s\u001b[0m 1ms/step - accuracy: 0.9222 - auc: 0.6504 - loss: 0.2626 - val_accuracy: 0.9235 - val_auc: 0.6237 - val_loss: 0.2714\n",
            "Epoch 46/50\n",
            "\u001b[1m1400/1400\u001b[0m \u001b[32m━━━━━━━━━━━━━━━━━━━━\u001b[0m\u001b[37m\u001b[0m \u001b[1m2s\u001b[0m 1ms/step - accuracy: 0.9218 - auc: 0.6666 - loss: 0.2615 - val_accuracy: 0.9234 - val_auc: 0.6275 - val_loss: 0.2664\n",
            "Epoch 47/50\n",
            "\u001b[1m1400/1400\u001b[0m \u001b[32m━━━━━━━━━━━━━━━━━━━━\u001b[0m\u001b[37m\u001b[0m \u001b[1m2s\u001b[0m 1ms/step - accuracy: 0.9213 - auc: 0.6689 - loss: 0.2613 - val_accuracy: 0.9236 - val_auc: 0.6273 - val_loss: 0.2710\n",
            "Epoch 48/50\n",
            "\u001b[1m1400/1400\u001b[0m \u001b[32m━━━━━━━━━━━━━━━━━━━━\u001b[0m\u001b[37m\u001b[0m \u001b[1m2s\u001b[0m 1ms/step - accuracy: 0.9223 - auc: 0.6682 - loss: 0.2593 - val_accuracy: 0.9234 - val_auc: 0.6251 - val_loss: 0.2659\n",
            "Epoch 49/50\n",
            "\u001b[1m1400/1400\u001b[0m \u001b[32m━━━━━━━━━━━━━━━━━━━━\u001b[0m\u001b[37m\u001b[0m \u001b[1m2s\u001b[0m 1ms/step - accuracy: 0.9187 - auc: 0.6534 - loss: 0.2699 - val_accuracy: 0.9234 - val_auc: 0.6258 - val_loss: 0.2681\n",
            "Epoch 50/50\n",
            "\u001b[1m1400/1400\u001b[0m \u001b[32m━━━━━━━━━━━━━━━━━━━━\u001b[0m\u001b[37m\u001b[0m \u001b[1m2s\u001b[0m 1ms/step - accuracy: 0.9223 - auc: 0.6648 - loss: 0.2597 - val_accuracy: 0.9230 - val_auc: 0.6223 - val_loss: 0.2730\n",
            "\n",
            "Final model training complete.\n"
          ]
        }
      ]
    },
    {
      "cell_type": "markdown",
      "metadata": {
        "id": "66bb642c"
      },
      "source": [
        "## Continue Hyperparameter Tuning\n",
        "\n",
        "### Subtask:\n",
        "Start the hyperparameter search using the defined tuner and the training/validation data."
      ]
    },
    {
      "cell_type": "markdown",
      "metadata": {
        "id": "5fc8908e"
      },
      "source": [
        "**Reasoning**:\n",
        "Start the hyperparameter search using the defined tuner and the training/validation data."
      ]
    },
    {
      "cell_type": "markdown",
      "metadata": {
        "id": "6de788ae"
      },
      "source": [
        "## Visualize Training History\n",
        "\n",
        "### Subtask:\n",
        "Plot the training and validation loss, accuracy, and AUC over epochs using the `history` object."
      ]
    },
    {
      "cell_type": "markdown",
      "metadata": {
        "id": "fc8269c8"
      },
      "source": [
        "**Reasoning**:\n",
        "Visualize the training history by plotting the loss, accuracy, and AUC for both the training and validation sets over the epochs."
      ]
    },
    {
      "cell_type": "code",
      "metadata": {
        "colab": {
          "base_uri": "https://localhost:8080/",
          "height": 1000
        },
        "id": "d0849bc0",
        "outputId": "3d73117f-82ec-4cef-c0e3-3a522a4437db"
      },
      "source": [
        "import matplotlib.pyplot as plt\n",
        "\n",
        "# Plot training & validation accuracy values\n",
        "plt.figure(figsize=(12, 6))\n",
        "plt.plot(history.history['accuracy'])\n",
        "plt.plot(history.history['val_accuracy'])\n",
        "plt.title('Model Accuracy')\n",
        "plt.ylabel('Accuracy')\n",
        "plt.xlabel('Epoch')\n",
        "plt.legend(['Train', 'Validation'], loc='upper left')\n",
        "plt.show()\n",
        "\n",
        "# Plot training & validation loss values\n",
        "plt.figure(figsize=(12, 6))\n",
        "plt.plot(history.history['loss'])\n",
        "plt.plot(history.history['val_loss'])\n",
        "plt.title('Model Loss')\n",
        "plt.ylabel('Loss')\n",
        "plt.xlabel('Epoch')\n",
        "plt.legend(['Train', 'Validation'], loc='upper left')\n",
        "plt.show()\n",
        "\n",
        "# Plot training & validation AUC values\n",
        "plt.figure(figsize=(12, 6))\n",
        "plt.plot(history.history['auc'])\n",
        "plt.plot(history.history['val_auc'])\n",
        "plt.title('Model AUC-ROC')\n",
        "plt.ylabel('AUC-ROC')\n",
        "plt.xlabel('Epoch')\n",
        "plt.legend(['Train', 'Validation'], loc='upper left')\n",
        "plt.show()"
      ],
      "execution_count": 29,
      "outputs": [
        {
          "output_type": "display_data",
          "data": {
            "text/plain": [
              "<Figure size 1200x600 with 1 Axes>"
            ],
            "image/png": "[encoded data removed]"
          },
          "metadata": {}
        },
        {
          "output_type": "display_data",
          "data": {
            "text/plain": [
              "<Figure size 1200x600 with 1 Axes>"
            ],
            "image/png": "[encoded data removed]"
          },
          "metadata": {}
        },
        {
          "output_type": "display_data",
          "data": {
            "text/plain": [
              "<Figure size 1200x600 with 1 Axes>"
            ],
            "image/png": "[encoded data removed]"
          },
          "metadata": {}
        }
      ]
    },
    {
      "cell_type": "code",
      "source": [
        "import tensorflow as tf\n",
        "from tensorflow.keras.models import Sequential\n",
        "from tensorflow.keras.layers import Dense, Dropout\n",
        "import keras_tuner as kt\n",
        "\n",
        "# Define the HyperModel\n",
        "def build_hypermodel(hp):\n",
        "    model = Sequential()\n",
        "    model.add(Dense(units=hp.Int('input_units', min_value=32, max_value=128, step=32),\n",
        "                    activation='relu',\n",
        "                    input_shape=(X_train_top_np.shape[1],)))\n",
        "\n",
        "    # Tune the number of hidden layers and units\n",
        "    for i in range(hp.Int('num_hidden_layers', min_value=0, max_value=2)):\n",
        "        model.add(Dense(units=hp.Int(f'units_{i}', min_value=32, max_value=128, step=32),\n",
        "                        activation='relu'))\n",
        "\n",
        "    # Tune dropout rate\n",
        "    if hp.Boolean('dropout'):\n",
        "        model.add(Dropout(hp.Float('dropout_rate', min_value=0.1, max_value=0.5, step=0.1)))\n",
        "\n",
        "    model.add(Dense(units=1, activation='sigmoid'))\n",
        "\n",
        "    # Tune the learning rate for the optimizer\n",
        "    hp_learning_rate = hp.Choice('learning_rate', values=[1e-2, 1e-3, 1e-4])\n",
        "\n",
        "    model.compile(\n",
        "        optimizer=tf.keras.optimizers.Adam(learning_rate=hp_learning_rate),\n",
        "        loss='binary_crossentropy',\n",
        "        metrics=['accuracy', tf.keras.metrics.AUC(name='auc')]\n",
        "    )\n",
        "    return model\n",
        "\n",
        "# Instantiate the tuner\n",
        "tuner = kt.Hyperband(\n",
        "    build_hypermodel,\n",
        "    objective=kt.Objective('val_auc', direction='max'), # Maximize validation AUC\n",
        "    max_epochs=10, # Maximum number of epochs to train a model\n",
        "    factor=3, # Factor by which the number of epochs increases\n",
        "    directory='keras_tuner_dir', # Directory to save the tuning results\n",
        "    project_name='diabetic_readmission_ann'\n",
        ")\n",
        "\n",
        "print(\"HyperModel defined and Keras Tuner instantiated.\")"
      ],
      "metadata": {
        "colab": {
          "base_uri": "https://localhost:8080/"
        },
        "id": "IVLW5H6hknZB",
        "outputId": "e273bfaa-252c-47b8-f011-279da1fa3c8c"
      },
      "execution_count": 30,
      "outputs": [
        {
          "output_type": "stream",
          "name": "stdout",
          "text": [
            "Reloading Tuner from keras_tuner_dir/diabetic_readmission_ann/tuner0.json\n",
            "HyperModel defined and Keras Tuner instantiated.\n"
          ]
        }
      ]
    },
    {
      "cell_type": "markdown",
      "metadata": {
        "id": "6f9f0256"
      },
      "source": [
        "## Evaluate the ANN Model\n",
        "\n",
        "### Subtask:\n",
        "Evaluate the trained ANN model on the test set (`X_test_top_np`, `y_test_top_np`) using appropriate metrics for imbalanced classification (e.g., precision, recall, F1-score, AUC-ROC)."
      ]
    },
    {
      "cell_type": "markdown",
      "metadata": {
        "id": "abce8261"
      },
      "source": [
        "**Reasoning**:\n",
        "Evaluate the trained ANN model on the test set using the test data and print the classification report and AUC-ROC score."
      ]
    },
    {
      "cell_type": "code",
      "metadata": {
        "colab": {
          "base_uri": "https://localhost:8080/"
        },
        "id": "72cddeef",
        "outputId": "ac84eee2-03f3-476f-e248-6decbfe5686b"
      },
      "source": [
        "# Evaluate the model on the test set\n",
        "print(\"\\n--- Evaluating the Tuned ANN Model ---\")\n",
        "loss, accuracy, auc = model_ann_tuned.evaluate(X_test_top_np, y_test_top_np, verbose=0)\n",
        "\n",
        "print(f\"Test Loss: {loss:.4f}\")\n",
        "print(f\"Test Accuracy: {accuracy:.4f}\")\n",
        "print(f\"Test AUC-ROC Score: {auc:.4f}\")\n",
        "\n",
        "# Get predictions for classification report\n",
        "y_pred_ann_tuned = (model_ann_tuned.predict(X_test_top_np) > 0.5).astype(\"int32\")\n",
        "\n",
        "print(\"\\nClassification Report (Tuned ANN Model):\")\n",
        "print(classification_report(y_test_top_np, y_pred_ann_tuned, target_names=['Not Readmitted', 'Readmitted (<30)']))"
      ],
      "execution_count": 33,
      "outputs": [
        {
          "output_type": "stream",
          "name": "stdout",
          "text": [
            "\n",
            "--- Evaluating the Tuned ANN Model ---\n",
            "Test Loss: 0.2881\n",
            "Test Accuracy: 0.9206\n",
            "Test AUC-ROC Score: 0.6300\n",
            "\u001b[1m438/438\u001b[0m \u001b[32m━━━━━━━━━━━━━━━━━━━━\u001b[0m\u001b[37m\u001b[0m \u001b[1m0s\u001b[0m 539us/step\n",
            "\n",
            "Classification Report (Tuned ANN Model):\n",
            "                  precision    recall  f1-score   support\n",
            "\n",
            "  Not Readmitted       0.92      1.00      0.96     12898\n",
            "Readmitted (<30)       0.36      0.01      0.02      1100\n",
            "\n",
            "        accuracy                           0.92     13998\n",
            "       macro avg       0.64      0.51      0.49     13998\n",
            "    weighted avg       0.88      0.92      0.89     13998\n",
            "\n"
          ]
        }
      ]
    },
    {
      "cell_type": "code",
      "source": [],
      "metadata": {
        "id": "l9CxngqlnEVY"
      },
      "execution_count": null,
      "outputs": []
    }
  ]
}